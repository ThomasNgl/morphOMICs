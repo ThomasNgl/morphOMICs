{
 "cells": [
  {
   "cell_type": "code",
   "execution_count": null,
   "metadata": {},
   "outputs": [],
   "source": [
    "%load_ext autoreload\n",
    "%autoreload 2"
   ]
  },
  {
   "cell_type": "code",
   "execution_count": null,
   "metadata": {},
   "outputs": [],
   "source": [
    "import os \n",
    "# Set a new working directory\n",
    "new_path = '../'\n",
    "os.chdir(new_path)\n",
    "\n",
    "from morphomics import protocols, utils\n",
    "from single_br_params import parameters_umap_plot\n",
    "\n",
    "# CHANGE THE BRAIN REGION\n",
    "#########################\n",
    "brain_region_list = ['CB', 'CN', 'DG', 'FC', 'OB', 'S1', 'SN']\n",
    "\n",
    "path_to_bootstrap = \"br_experiments/results/vectorized/Morphomics.PID_all_br.tmd_morphoframe_cleaned_bootstrap_vect\"\n",
    "bootstrap_frame = utils.load_obj(name = path_to_bootstrap)\n"
   ]
  },
  {
   "cell_type": "code",
   "execution_count": null,
   "metadata": {},
   "outputs": [],
   "source": [
    "\n",
    "for br in brain_region_list:\n",
    "\n",
    "    save_folderpath = \"br_experiments/results/\" + br\n",
    "    morphoframe_suffix = \"_bootstrap\"\n",
    "    parameters = parameters_umap_plot(save_folderpath = save_folderpath,\n",
    "                                    brain_region = br,\n",
    "                                    morphoframe_suffix = morphoframe_suffix)\n",
    "\n",
    "    single_br_bf = bootstrap_frame[bootstrap_frame[\"Region\"] == br]\n",
    "\n",
    "    single_br_protocol = protocols.Protocols(parameters = parameters, \n",
    "                                            Parameters_ID = parameters[\"Parameters_ID\"])\n",
    "\n",
    "    single_br_protocol.morphoframe[br + morphoframe_suffix] = single_br_bf\n",
    "\n",
    "    perform_this = getattr(single_br_protocol, 'Dim_reductions')\n",
    "    perform_this()\n",
    "\n",
    "    perform_this = getattr(single_br_protocol, 'Save_reduced')\n",
    "    perform_this()\n",
    "\n",
    "    perform_this = getattr(single_br_protocol, 'Plotting')\n",
    "    perform_this()"
   ]
  }
 ],
 "metadata": {
  "kernelspec": {
   "display_name": "morphomics",
   "language": "python",
   "name": "python3"
  },
  "language_info": {
   "codemirror_mode": {
    "name": "ipython",
    "version": 3
   },
   "file_extension": ".py",
   "mimetype": "text/x-python",
   "name": "python",
   "nbconvert_exporter": "python",
   "pygments_lexer": "ipython3",
   "version": "3.9.19"
  }
 },
 "nbformat": 4,
 "nbformat_minor": 2
}
