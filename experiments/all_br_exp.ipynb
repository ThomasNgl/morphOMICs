{
 "cells": [
  {
   "cell_type": "code",
   "execution_count": null,
   "metadata": {},
   "outputs": [],
   "source": [
    "%load_ext autoreload\n",
    "%autoreload 2"
   ]
  },
  {
   "cell_type": "code",
   "execution_count": null,
   "metadata": {},
   "outputs": [],
   "source": [
    "import os\n",
    "# Set a new working directory\n",
    "new_path = '../'\n",
    "os.chdir(new_path)\n",
    "\n",
    "from morphomics import protocols\n",
    "from dict_parameters import parameters_br_pi_boot_umap_plot\n",
    "\n",
    "save_folderpath = \"br_experiments/results\"\n",
    "\n",
    "parameters = parameters_br_pi_boot_umap_plot(save_folderpath = save_folderpath,\n",
    "                                             pid = \"all_br\")"
   ]
  },
  {
   "cell_type": "code",
   "execution_count": null,
   "metadata": {},
   "outputs": [],
   "source": [
    "all_br_protocol = protocols.Protocols(parameters = parameters, Parameters_ID = parameters[\"Parameters_ID\"])"
   ]
  },
  {
   "cell_type": "code",
   "execution_count": null,
   "metadata": {},
   "outputs": [],
   "source": [
    "perform_this = getattr(all_br_protocol, 'Input')\n",
    "perform_this()"
   ]
  },
  {
   "cell_type": "code",
   "execution_count": null,
   "metadata": {},
   "outputs": [],
   "source": [
    "perform_this = getattr(all_br_protocol, 'Clean_frame')\n",
    "perform_this()"
   ]
  },
  {
   "cell_type": "code",
   "execution_count": null,
   "metadata": {},
   "outputs": [],
   "source": [
    "perform_this = getattr(all_br_protocol, 'Bootstrap')\n",
    "perform_this()"
   ]
  },
  {
   "cell_type": "code",
   "execution_count": null,
   "metadata": {},
   "outputs": [],
   "source": [
    "perform_this = getattr(all_br_protocol, 'Vectorizations')\n",
    "perform_this()"
   ]
  },
  {
   "cell_type": "code",
   "execution_count": null,
   "metadata": {},
   "outputs": [],
   "source": [
    "perform_this = getattr(all_br_protocol, 'Dim_reductions')\n",
    "perform_this()"
   ]
  },
  {
   "cell_type": "code",
   "execution_count": null,
   "metadata": {},
   "outputs": [],
   "source": [
    "perform_this = getattr(all_br_protocol, 'Save_reduced')\n",
    "perform_this()"
   ]
  },
  {
   "cell_type": "code",
   "execution_count": null,
   "metadata": {},
   "outputs": [],
   "source": [
    "perform_this = getattr(all_br_protocol, 'Plotting')\n",
    "perform_this()"
   ]
  },
  {
   "cell_type": "code",
   "execution_count": null,
   "metadata": {},
   "outputs": [],
   "source": [
    "# run the protocols in row\n",
    "# script_sequence = parameters[\"Protocols\"]\n",
    "# for sequence in script_sequence:\n",
    "#     print(\"Doing %s...\"%sequence)\n",
    "#     perform_this = getattr(protocol, sequence)\n",
    "#     perform_this()\n",
    "\n",
    "# if parameters[\"save_last_instance\"]:\n",
    "#     utils.save_obj(protocol, last_instance_path)"
   ]
  }
 ],
 "metadata": {
  "kernelspec": {
   "display_name": "morphomics",
   "language": "python",
   "name": "python3"
  },
  "language_info": {
   "codemirror_mode": {
    "name": "ipython",
    "version": 3
   },
   "file_extension": ".py",
   "mimetype": "text/x-python",
   "name": "python",
   "nbconvert_exporter": "python",
   "pygments_lexer": "ipython3",
   "version": "3.9.19"
  }
 },
 "nbformat": 4,
 "nbformat_minor": 2
}
