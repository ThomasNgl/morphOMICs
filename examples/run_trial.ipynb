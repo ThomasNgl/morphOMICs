{
 "cells": [
  {
   "cell_type": "code",
   "execution_count": null,
   "metadata": {},
   "outputs": [],
   "source": [
    "import os\n",
    "\n",
    "# Set a new working directory\n",
    "new_path = '../'\n",
    "os.chdir(new_path)"
   ]
  },
  {
   "cell_type": "code",
   "execution_count": null,
   "metadata": {},
   "outputs": [],
   "source": [
    "from morphomics import protocols, utils\n",
    "import tomli\n",
    "\n",
    "# Path to the toml file. Contains the parameters for each protocol\n",
    "parameters_filepath = \"examples/Parameter_files/Morphomics.Parameters_trial.toml\"\n",
    "\n",
    "# read the toml file\n",
    "with open(parameters_filepath, mode=\"rb\") as _parameter_file:\n",
    "    parameters = tomli.load(_parameter_file)"
   ]
  },
  {
   "cell_type": "code",
   "execution_count": null,
   "metadata": {},
   "outputs": [],
   "source": [
    "#print the parameters for each protocol\n",
    "for key in list(parameters.keys()):\n",
    "    print(key, '::', parameters[key])"
   ]
  },
  {
   "cell_type": "code",
   "execution_count": null,
   "metadata": {},
   "outputs": [],
   "source": [
    "# get the protocol\n",
    "# from already saved protocol\n",
    "# or initialize a new protocol with parameters\n",
    "if parameters[\"load_previous_instance\"]:\n",
    "    last_instance_path = os.path.join(parameters[\"path_to_last_instance\"], f'last_instance_{parameters[\"Parameters_ID\"]}')\n",
    "    protocol = utils.load_obj(last_instance_path)\n",
    "else:\n",
    "    protocol = protocols.Protocols(parameters, parameters[\"Parameters_ID\"])"
   ]
  },
  {
   "cell_type": "code",
   "execution_count": null,
   "metadata": {},
   "outputs": [],
   "source": [
    "script_sequence = parameters[\"Protocols\"]\n",
    "print(script_sequence)"
   ]
  },
  {
   "cell_type": "code",
   "execution_count": null,
   "metadata": {},
   "outputs": [],
   "source": [
    "# input\n",
    "perform_input = getattr(protocol, 'Input')\n",
    "perform_input()"
   ]
  },
  {
   "cell_type": "code",
   "execution_count": null,
   "metadata": {},
   "outputs": [],
   "source": [
    "tmd_microglia = protocol.morphoframe['TMD']\n",
    "print(tmd_microglia.shape)"
   ]
  },
  {
   "cell_type": "code",
   "execution_count": null,
   "metadata": {},
   "outputs": [],
   "source": [
    "from morphomics.TMD_view import plot\n",
    "sample = tmd_microglia['Barcodes'][0]\n",
    "plot.barcode(sample)"
   ]
  },
  {
   "cell_type": "code",
   "execution_count": null,
   "metadata": {},
   "outputs": [],
   "source": [
    "# clean frame\n",
    "perform_input = getattr(protocol, 'Clean_frame')\n",
    "perform_input()"
   ]
  },
  {
   "cell_type": "code",
   "execution_count": null,
   "metadata": {},
   "outputs": [],
   "source": [
    "# load cleaned input\n",
    "\n",
    "parameters['Protocols'].append('Load_data')\n",
    "parameters['Load_data'] = {'folderpath_to_data': '/home/thomas/Desktop/morphOMICs/examples/trial_folder/tmd_cleaned/Morphomics.PID_trial.Cleaned',\n",
    "                           'morphoframe_name': 'TMD'}# \n",
    "perform_input = getattr(protocol, 'Load_data')\n",
    "perform_input()"
   ]
  },
  {
   "cell_type": "code",
   "execution_count": null,
   "metadata": {},
   "outputs": [],
   "source": [
    "protocol.morphoframe"
   ]
  },
  {
   "cell_type": "code",
   "execution_count": null,
   "metadata": {},
   "outputs": [],
   "source": [
    "df = protocol.morphoframe['TMD']"
   ]
  },
  {
   "cell_type": "code",
   "execution_count": null,
   "metadata": {},
   "outputs": [],
   "source": [
    "# PI\n",
    "perform_input = getattr(protocol, 'Persistence_Images')\n",
    "perform_input()"
   ]
  },
  {
   "cell_type": "code",
   "execution_count": null,
   "metadata": {},
   "outputs": [],
   "source": [
    "pis = protocol.metadata['PI_matrix']"
   ]
  },
  {
   "cell_type": "code",
   "execution_count": null,
   "metadata": {},
   "outputs": [],
   "source": [
    "pis.shape"
   ]
  },
  {
   "cell_type": "code",
   "execution_count": null,
   "metadata": {},
   "outputs": [],
   "source": [
    "df['pi'] = [row for row in pis]\n"
   ]
  },
  {
   "cell_type": "code",
   "execution_count": null,
   "metadata": {},
   "outputs": [],
   "source": [
    "df"
   ]
  },
  {
   "cell_type": "code",
   "execution_count": null,
   "metadata": {},
   "outputs": [],
   "source": [
    "import pandas as pd\n",
    "import numpy as np\n",
    "\n",
    "# Create a random DataFrame similar to your data\n",
    "np.random.seed(42)  # For reproducibility\n",
    "num_rows = 1175\n",
    "num_cols = 10\n",
    "df = pd.DataFrame(np.random.rand(num_rows, num_cols), columns=[f'col_{i}' for i in range(num_cols)])\n",
    "\n",
    "# Add a 'Model' column with four different values\n",
    "df['Model'] = np.random.choice(['A', 'B', 'C', 'D'], size=num_rows)\n",
    "\n",
    "# Create a random numpy array to represent 'pis'\n",
    "pis = np.random.rand(num_rows, 400)\n",
    "\n",
    "# Add the 'pi' column to the DataFrame\n",
    "df['pi'] = [pi for pi in pis]\n",
    "\n",
    "# Function to perform bootstrapping\n",
    "def bootstrap_mean(data):\n",
    "    # Perform bootstrapping by sampling with replacement\n",
    "    bootstrapped_means = []\n",
    "    num_samples = 500\n",
    "    sample_size = 15\n",
    "    for _ in range(num_samples):\n",
    "        sample = np.random.choice(data, size=sample_size, replace=True)\n",
    "        bootstrapped_means.append(np.mean(sample))\n",
    "    return bootstrapped_means\n",
    "\n",
    "# Perform bootstrapping by Model\n",
    "unique_models = df['Model'].unique()\n",
    "bootstrapped_means_by_model = {}\n",
    "for model in unique_models:\n",
    "    model_data = df[df['Model'] == model]['pi']\n",
    "    bootstrapped_means_by_model[model] = bootstrap_mean(model_data)\n",
    "\n",
    "# Create a new DataFrame to store the bootstrapped means\n",
    "bootstrapped_df = pd.DataFrame({\n",
    "    'Model': np.repeat(unique_models, 500),  # 500 bootstrapped samples for each model\n",
    "    'Bootstrapped_Mean': np.concatenate([np.array(arr).flatten() for arr in bootstrapped_means_by_model.values()])\n",
    "})\n",
    "\n",
    "# Print or display the bootstrapped DataFrame\n",
    "print(bootstrapped_df.head())\n"
   ]
  },
  {
   "cell_type": "code",
   "execution_count": null,
   "metadata": {},
   "outputs": [],
   "source": [
    "# UMAP\n",
    "perform_input = getattr(protocol, 'UMAP')\n",
    "perform_input()"
   ]
  },
  {
   "cell_type": "code",
   "execution_count": null,
   "metadata": {},
   "outputs": [],
   "source": [
    "# reduction\n",
    "perform_input = getattr(protocol, 'Prepare_ReductionInfo')\n",
    "perform_input()"
   ]
  },
  {
   "cell_type": "code",
   "execution_count": null,
   "metadata": {},
   "outputs": [],
   "source": [
    "# Plotting\n",
    "perform_input = getattr(protocol, 'Plotting')\n",
    "perform_input()"
   ]
  },
  {
   "cell_type": "code",
   "execution_count": null,
   "metadata": {},
   "outputs": [],
   "source": [
    "for sequence in script_sequence:\n",
    "    print(\"Doing %s...\"%sequence)\n",
    "    perform_this = getattr(protocol, sequence)\n",
    "    perform_this()\n",
    "\n",
    "if parameters[\"save_last_instance\"]:\n",
    "    new_instance_path = os.path.join(parameters[\"path_to_new_instance\"], f'last_instance_{parameters[\"Parameters_ID\"]}')\n",
    "    utils.save_obj(protocol, last_instance_path)"
   ]
  },
  {
   "cell_type": "code",
   "execution_count": null,
   "metadata": {},
   "outputs": [],
   "source": [
    "protocol.morphoframe.keys()"
   ]
  },
  {
   "cell_type": "code",
   "execution_count": null,
   "metadata": {},
   "outputs": [],
   "source": [
    "protocol.morphoframe['bootstrap_frame']"
   ]
  },
  {
   "cell_type": "code",
   "execution_count": null,
   "metadata": {},
   "outputs": [],
   "source": [
    "protocol.morphoframe['morphoframe']"
   ]
  },
  {
   "cell_type": "code",
   "execution_count": null,
   "metadata": {},
   "outputs": [],
   "source": [
    "protocol.metadata.keys()"
   ]
  },
  {
   "cell_type": "code",
   "execution_count": null,
   "metadata": {},
   "outputs": [],
   "source": [
    "protocol.metadata['bootstrap_info']"
   ]
  },
  {
   "cell_type": "code",
   "execution_count": null,
   "metadata": {},
   "outputs": [],
   "source": [
    "protocol.metadata['PI_matrix'].shape"
   ]
  }
 ],
 "metadata": {
  "kernelspec": {
   "display_name": "venv",
   "language": "python",
   "name": "python3"
  },
  "language_info": {
   "codemirror_mode": {
    "name": "ipython",
    "version": 3
   },
   "file_extension": ".py",
   "mimetype": "text/x-python",
   "name": "python",
   "nbconvert_exporter": "python",
   "pygments_lexer": "ipython3",
   "version": "3.9.19"
  }
 },
 "nbformat": 4,
 "nbformat_minor": 2
}
