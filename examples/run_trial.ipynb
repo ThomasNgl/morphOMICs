{
 "cells": [
  {
   "cell_type": "code",
   "execution_count": 1,
   "metadata": {},
   "outputs": [],
   "source": [
    "import os\n",
    "\n",
    "# Set a new working directory\n",
    "new_path = '../'\n",
    "os.chdir(new_path)"
   ]
  },
  {
   "cell_type": "code",
   "execution_count": 2,
   "metadata": {},
   "outputs": [],
   "source": [
    "from morphomics import protocols, utils\n",
    "import tomli\n",
    "\n",
    "# Path to the toml file. Contains the parameters for each protocol\n",
    "parameters_filepath = \"examples/Parameter_files/Morphomics.Parameters_trial.toml\"\n",
    "\n",
    "# read the toml file\n",
    "with open(parameters_filepath, mode=\"rb\") as _parameter_file:\n",
    "    parameters = tomli.load(_parameter_file)"
   ]
  },
  {
   "cell_type": "code",
   "execution_count": 3,
   "metadata": {},
   "outputs": [
    {
     "name": "stdout",
     "output_type": "stream",
     "text": [
      "Protocols :: ['Input', 'Clean_frame', 'Bootstrap', 'Persistence_Images', 'UMAP', 'Prepare_ReductionInfo', 'Plotting']\n",
      "Parameters_ID :: trial\n",
      "load_previous_instance :: False\n",
      "path_to_last_instance :: examples/trial_folder\n",
      "save_last_instance :: True\n",
      "path_to_new_instance :: examples/trial_folder\n",
      "Input :: {'data_location_filepath': 'examples/data', 'extension': '_corrected.swc', 'conditions': ['Region', 'Model', 'Sex', 'Animal'], 'barcode_filter': 'radial_distances', 'morphoframe_name': 'TMD', 'save_data': True, 'separated_by': 'Model', 'save_folder': 'examples/trial_folder/tmd', 'file_prefix': 0}\n",
      "Clean_frame :: {'morphoframe_filepath': 0, 'morphoframe_name': 'TMD', 'barcode_size_cutoff': 5, 'barlength_cutoff': [], 'combine_conditions': [['Model', ['Saline_4h', 'Saline_48h'], 'Adult']], 'restrict_conditions': [], 'save_data': True, 'save_folder': 'examples/trial_folder/tmd_cleaned', 'file_prefix': 0}\n",
      "Bootstrap :: {'morphoframe_filepath': 0, 'morphoframe_name': 'morphoframe', 'feature_to_bootstrap': ['Barcodes', 'bars'], 'condition_column': 'Condition', 'bootstrap_conditions': [], 'bootstrap_resolution': ['Region', 'Model', 'Sex'], 'rand_seed': 34151, 'ratio': 0, 'N_pop': 15, 'N_samples': 500, 'bootstrapframe_name': 'bootstrap_frame', 'morphoinfo_name': 'bootstrap_info', 'save_data': True, 'save_folder': 'trial_folder', 'file_prefix': 0}\n",
      "Persistence_Images :: {'morphoframe_filepath': 0, 'morphoframe_name': 'TMD', 'bw_method': 0.5, 'norm_method': 'sum', 'xlims': [0, 200], 'ylims': [0, 200], 'resolution': 20, 'barcode_weight': 0, 'save_data': True, 'save_folder': 'examples/trial_folder/pi', 'file_prefix': 0}\n",
      "UMAP :: {'PersistenceImages_filepath': 0, 'filter_pixels': 1, 'filteredpixelindex_filepath': 0, 'pixel_std_cutoff': 0.0001, 'run_PCA': 0, 'n_PCs': 50, 'n_neighbors': 300, 'min_dist': 0.05, 'spread': 3.0, 'random_state': 34151, 'metric': 'manhattan', 'densmap': 0, 'n_components': 3, 'save_data': True, 'save_folder': 'examples/trial_folder/umap', 'file_prefix': 0}\n",
      "Prepare_ReductionInfo :: {'declare_filepaths': False, 'UMAP_filepath': 0, 'BootstrapInfo_filepath': 0, 'coordinate_key': 'X_umap', 'morphoinfo_key': 'bootstrap_info', 'coordinate_axisnames': 'UMAP', 'save_data': True, 'save_folder': 'examples/trial_folder/reduction', 'file_prefix': 0}\n",
      "Plotting :: {'ReductionInfo_filepath': ['infer'], 'coordinate_axisnames': 'UMAP', 'coordinate_key': 'X_umap', 'morphoinfo_key': 'bootstrap_info', 'Coordinate_filepath': [], 'MorphoInfo_filepath': [], 'colormap_filepath': ['examples/Parameter_files/colormap.1.csv'], 'label_prefixes': ['Sample'], 'Substitutions': [], 'show_plot': True, 'save_data': True, 'save_folder': 'examples/trial_folder/plot', 'file_prefix': 'Brain'}\n"
     ]
    }
   ],
   "source": [
    "#print the parameters for each protocol\n",
    "for key in list(parameters.keys()):\n",
    "    print(key, '::', parameters[key])"
   ]
  },
  {
   "cell_type": "code",
   "execution_count": 4,
   "metadata": {},
   "outputs": [
    {
     "name": "stdout",
     "output_type": "stream",
     "text": [
      "Unless you have specified the file prefix in the succeeding executables, \n",
      "this will be the file prefix: Morphomics.PID_trial\n"
     ]
    }
   ],
   "source": [
    "# get the protocol\n",
    "# from already saved protocol\n",
    "# or initialize a new protocol with parameters\n",
    "if parameters[\"load_previous_instance\"]:\n",
    "    last_instance_path = os.path.join(parameters[\"path_to_last_instance\"], f'last_instance_{parameters[\"Parameters_ID\"]}')\n",
    "    protocol = utils.load_obj(last_instance_path)\n",
    "else:\n",
    "    protocol = protocols.Protocols(parameters, parameters[\"Parameters_ID\"])"
   ]
  },
  {
   "cell_type": "code",
   "execution_count": 5,
   "metadata": {},
   "outputs": [
    {
     "name": "stdout",
     "output_type": "stream",
     "text": [
      "['Input', 'Clean_frame', 'Bootstrap', 'Persistence_Images', 'UMAP', 'Prepare_ReductionInfo', 'Plotting']\n"
     ]
    }
   ],
   "source": [
    "script_sequence = parameters[\"Protocols\"]\n",
    "print(script_sequence)"
   ]
  },
  {
   "cell_type": "code",
   "execution_count": 6,
   "metadata": {},
   "outputs": [
    {
     "name": "stdout",
     "output_type": "stream",
     "text": [
      "Loading the data from examples/data\n",
      "Saving dataset in examples/trial_folder/tmd/Morphomics.PID_trial.TMD-radial_distances\n"
     ]
    },
    {
     "ename": "AttributeError",
     "evalue": "module 'morphomics' has no attribute 'io'",
     "output_type": "error",
     "traceback": [
      "\u001b[0;31m---------------------------------------------------------------------------\u001b[0m",
      "\u001b[0;31mAttributeError\u001b[0m                            Traceback (most recent call last)",
      "Cell \u001b[0;32mIn[6], line 3\u001b[0m\n\u001b[1;32m      1\u001b[0m \u001b[38;5;66;03m# input\u001b[39;00m\n\u001b[1;32m      2\u001b[0m perform_input \u001b[38;5;241m=\u001b[39m \u001b[38;5;28mgetattr\u001b[39m(protocol, \u001b[38;5;124m'\u001b[39m\u001b[38;5;124mInput\u001b[39m\u001b[38;5;124m'\u001b[39m)\n\u001b[0;32m----> 3\u001b[0m \u001b[43mperform_input\u001b[49m\u001b[43m(\u001b[49m\u001b[43m)\u001b[49m\n",
      "File \u001b[0;32m~/Desktop/morphOMICs/morphomics/protocols.py:96\u001b[0m, in \u001b[0;36mProtocols.Input\u001b[0;34m(self)\u001b[0m\n\u001b[1;32m     93\u001b[0m \u001b[38;5;28mprint\u001b[39m(\u001b[38;5;124m\"\u001b[39m\u001b[38;5;124mSaving dataset in \u001b[39m\u001b[38;5;132;01m%s\u001b[39;00m\u001b[38;5;124m\"\u001b[39m\u001b[38;5;241m%\u001b[39m(save_filename))\n\u001b[1;32m     95\u001b[0m \u001b[38;5;66;03m# load the data\u001b[39;00m\n\u001b[0;32m---> 96\u001b[0m \u001b[38;5;28mself\u001b[39m\u001b[38;5;241m.\u001b[39mmorphoframe[params[\u001b[38;5;124m\"\u001b[39m\u001b[38;5;124mmorphoframe_name\u001b[39m\u001b[38;5;124m\"\u001b[39m]] \u001b[38;5;241m=\u001b[39m \u001b[43mmorphomics\u001b[49m\u001b[38;5;241;43m.\u001b[39;49m\u001b[43mio\u001b[49m\u001b[38;5;241m.\u001b[39mload_data(\n\u001b[1;32m     97\u001b[0m     folder_location\u001b[38;5;241m=\u001b[39mparams[\u001b[38;5;124m\"\u001b[39m\u001b[38;5;124mdata_location_filepath\u001b[39m\u001b[38;5;124m\"\u001b[39m],\n\u001b[1;32m     98\u001b[0m     extension\u001b[38;5;241m=\u001b[39mparams[\u001b[38;5;124m\"\u001b[39m\u001b[38;5;124mextension\u001b[39m\u001b[38;5;124m\"\u001b[39m],\n\u001b[1;32m     99\u001b[0m     barcode_filter\u001b[38;5;241m=\u001b[39mparams[\u001b[38;5;124m\"\u001b[39m\u001b[38;5;124mbarcode_filter\u001b[39m\u001b[38;5;124m\"\u001b[39m],\n\u001b[1;32m    100\u001b[0m     save_filename\u001b[38;5;241m=\u001b[39msave_filename,\n\u001b[1;32m    101\u001b[0m     conditions\u001b[38;5;241m=\u001b[39mparams[\u001b[38;5;124m\"\u001b[39m\u001b[38;5;124mconditions\u001b[39m\u001b[38;5;124m\"\u001b[39m],\n\u001b[1;32m    102\u001b[0m     separated_by\u001b[38;5;241m=\u001b[39mparams[\u001b[38;5;124m\"\u001b[39m\u001b[38;5;124mseparated_by\u001b[39m\u001b[38;5;124m\"\u001b[39m],\n\u001b[1;32m    103\u001b[0m )\n\u001b[1;32m    105\u001b[0m \u001b[38;5;28mprint\u001b[39m(\u001b[38;5;124m\"\u001b[39m\u001b[38;5;124mInput done!\u001b[39m\u001b[38;5;124m\"\u001b[39m)\n",
      "\u001b[0;31mAttributeError\u001b[0m: module 'morphomics' has no attribute 'io'"
     ]
    }
   ],
   "source": [
    "# input\n",
    "perform_input = getattr(protocol, 'Input')\n",
    "perform_input()"
   ]
  },
  {
   "cell_type": "code",
   "execution_count": null,
   "metadata": {},
   "outputs": [],
   "source": [
    "tmd_microglia = protocol.morphoframe['TMD']\n",
    "print(tmd_microglia.shape)"
   ]
  },
  {
   "cell_type": "code",
   "execution_count": null,
   "metadata": {},
   "outputs": [],
   "source": [
    "import tmd\n",
    "sample = tmd_microglia['Barcodes'][0]\n",
    "tmd.plot.barcode(sample)"
   ]
  },
  {
   "cell_type": "code",
   "execution_count": null,
   "metadata": {},
   "outputs": [],
   "source": [
    "# clean frame\n",
    "perform_input = getattr(protocol, 'Clean_frame')\n",
    "perform_input()"
   ]
  },
  {
   "cell_type": "code",
   "execution_count": null,
   "metadata": {},
   "outputs": [],
   "source": [
    "# load cleaned input\n",
    "\n",
    "parameters['Protocols'].append('Load_data')\n",
    "parameters['Load_data'] = {'folderpath_to_data': '/home/thomas/Desktop/morphOMICs/examples/trial_folder/tmd_cleaned/Morphomics.PID_trial.Cleaned',\n",
    "                           'morphoframe_name': 'TMD'}# \n",
    "perform_input = getattr(protocol, 'Load_data')\n",
    "perform_input()"
   ]
  },
  {
   "cell_type": "code",
   "execution_count": null,
   "metadata": {},
   "outputs": [],
   "source": [
    "protocol.morphoframe"
   ]
  },
  {
   "cell_type": "code",
   "execution_count": null,
   "metadata": {},
   "outputs": [],
   "source": [
    "df = protocol.morphoframe['TMD']"
   ]
  },
  {
   "cell_type": "code",
   "execution_count": null,
   "metadata": {},
   "outputs": [],
   "source": [
    "# PI\n",
    "perform_input = getattr(protocol, 'Persistence_Images')\n",
    "perform_input()"
   ]
  },
  {
   "cell_type": "code",
   "execution_count": null,
   "metadata": {},
   "outputs": [],
   "source": [
    "pis = protocol.metadata['PI_matrix']"
   ]
  },
  {
   "cell_type": "code",
   "execution_count": null,
   "metadata": {},
   "outputs": [],
   "source": [
    "pis.shape"
   ]
  },
  {
   "cell_type": "code",
   "execution_count": null,
   "metadata": {},
   "outputs": [],
   "source": [
    "df['pi'] = [row for row in pis]\n"
   ]
  },
  {
   "cell_type": "code",
   "execution_count": null,
   "metadata": {},
   "outputs": [],
   "source": [
    "df"
   ]
  },
  {
   "cell_type": "code",
   "execution_count": null,
   "metadata": {},
   "outputs": [],
   "source": [
    "import pandas as pd\n",
    "import numpy as np\n",
    "\n",
    "# Create a random DataFrame similar to your data\n",
    "np.random.seed(42)  # For reproducibility\n",
    "num_rows = 1175\n",
    "num_cols = 10\n",
    "df = pd.DataFrame(np.random.rand(num_rows, num_cols), columns=[f'col_{i}' for i in range(num_cols)])\n",
    "\n",
    "# Add a 'Model' column with four different values\n",
    "df['Model'] = np.random.choice(['A', 'B', 'C', 'D'], size=num_rows)\n",
    "\n",
    "# Create a random numpy array to represent 'pis'\n",
    "pis = np.random.rand(num_rows, 400)\n",
    "\n",
    "# Add the 'pi' column to the DataFrame\n",
    "df['pi'] = [pi for pi in pis]\n",
    "\n",
    "# Function to perform bootstrapping\n",
    "def bootstrap_mean(data):\n",
    "    # Perform bootstrapping by sampling with replacement\n",
    "    bootstrapped_means = []\n",
    "    num_samples = 500\n",
    "    sample_size = 15\n",
    "    for _ in range(num_samples):\n",
    "        sample = np.random.choice(data, size=sample_size, replace=True)\n",
    "        bootstrapped_means.append(np.mean(sample))\n",
    "    return bootstrapped_means\n",
    "\n",
    "# Perform bootstrapping by Model\n",
    "unique_models = df['Model'].unique()\n",
    "bootstrapped_means_by_model = {}\n",
    "for model in unique_models:\n",
    "    model_data = df[df['Model'] == model]['pi']\n",
    "    bootstrapped_means_by_model[model] = bootstrap_mean(model_data)\n",
    "\n",
    "# Create a new DataFrame to store the bootstrapped means\n",
    "bootstrapped_df = pd.DataFrame({\n",
    "    'Model': np.repeat(unique_models, 500),  # 500 bootstrapped samples for each model\n",
    "    'Bootstrapped_Mean': np.concatenate([np.array(arr).flatten() for arr in bootstrapped_means_by_model.values()])\n",
    "})\n",
    "\n",
    "# Print or display the bootstrapped DataFrame\n",
    "print(bootstrapped_df.head())\n"
   ]
  },
  {
   "cell_type": "code",
   "execution_count": null,
   "metadata": {},
   "outputs": [],
   "source": [
    "# UMAP\n",
    "perform_input = getattr(protocol, 'UMAP')\n",
    "perform_input()"
   ]
  },
  {
   "cell_type": "code",
   "execution_count": null,
   "metadata": {},
   "outputs": [],
   "source": [
    "# reduction\n",
    "perform_input = getattr(protocol, 'Prepare_ReductionInfo')\n",
    "perform_input()"
   ]
  },
  {
   "cell_type": "code",
   "execution_count": null,
   "metadata": {},
   "outputs": [],
   "source": [
    "# Plotting\n",
    "perform_input = getattr(protocol, 'Plotting')\n",
    "perform_input()"
   ]
  },
  {
   "cell_type": "code",
   "execution_count": null,
   "metadata": {},
   "outputs": [],
   "source": [
    "for sequence in script_sequence:\n",
    "    print(\"Doing %s...\"%sequence)\n",
    "    perform_this = getattr(protocol, sequence)\n",
    "    perform_this()\n",
    "\n",
    "if parameters[\"save_last_instance\"]:\n",
    "    new_instance_path = os.path.join(parameters[\"path_to_new_instance\"], f'last_instance_{parameters[\"Parameters_ID\"]}')\n",
    "    utils.save_obj(protocol, last_instance_path)"
   ]
  },
  {
   "cell_type": "code",
   "execution_count": null,
   "metadata": {},
   "outputs": [],
   "source": [
    "protocol.morphoframe.keys()"
   ]
  },
  {
   "cell_type": "code",
   "execution_count": null,
   "metadata": {},
   "outputs": [],
   "source": [
    "protocol.morphoframe['bootstrap_frame']"
   ]
  },
  {
   "cell_type": "code",
   "execution_count": null,
   "metadata": {},
   "outputs": [],
   "source": [
    "protocol.morphoframe['morphoframe']"
   ]
  },
  {
   "cell_type": "code",
   "execution_count": null,
   "metadata": {},
   "outputs": [],
   "source": [
    "protocol.metadata.keys()"
   ]
  },
  {
   "cell_type": "code",
   "execution_count": null,
   "metadata": {},
   "outputs": [],
   "source": [
    "protocol.metadata['bootstrap_info']"
   ]
  },
  {
   "cell_type": "code",
   "execution_count": null,
   "metadata": {},
   "outputs": [],
   "source": [
    "protocol.metadata['PI_matrix'].shape"
   ]
  }
 ],
 "metadata": {
  "kernelspec": {
   "display_name": "venv",
   "language": "python",
   "name": "python3"
  },
  "language_info": {
   "codemirror_mode": {
    "name": "ipython",
    "version": 3
   },
   "file_extension": ".py",
   "mimetype": "text/x-python",
   "name": "python",
   "nbconvert_exporter": "python",
   "pygments_lexer": "ipython3",
   "version": "3.9.19"
  }
 },
 "nbformat": 4,
 "nbformat_minor": 2
}
