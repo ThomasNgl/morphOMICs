{
 "cells": [
  {
   "cell_type": "code",
   "execution_count": null,
   "metadata": {},
   "outputs": [],
   "source": [
    "%load_ext autoreload\n",
    "%autoreload 2"
   ]
  },
  {
   "cell_type": "code",
   "execution_count": null,
   "metadata": {},
   "outputs": [],
   "source": [
    "import os\n",
    "\n",
    "# Set a new working directory\n",
    "new_path = '../'\n",
    "os.chdir(new_path)"
   ]
  },
  {
   "cell_type": "code",
   "execution_count": null,
   "metadata": {},
   "outputs": [],
   "source": [
    "from morphomics import protocols, utils\n",
    "import tomli\n",
    "\n",
    "# Path to the toml file. Contains the parameters for each protocol\n",
    "parameters_filepath = \"examples/Parameter_files/Morphomics.Parameters_trial.toml\"\n",
    "\n",
    "# read the toml file\n",
    "with open(parameters_filepath, mode=\"rb\") as _parameter_file:\n",
    "    parameters = tomli.load(_parameter_file)\n",
    "\n",
    "# get the protocol\n",
    "# from already saved protocol\n",
    "# or initialize a new protocol with parameters\n",
    "if parameters[\"load_previous_instance\"]:\n",
    "    last_instance_path = os.path.join(parameters[\"path_to_last_instance\"], f'last_instance_{parameters[\"Parameters_ID\"]}')\n",
    "    protocol = utils.load_obj(last_instance_path)\n",
    "else:\n",
    "    protocol = protocols.Protocols(parameters, parameters[\"Parameters_ID\"])\n",
    "\n",
    "script_sequence = parameters[\"Protocols\"]\n",
    "print(script_sequence)"
   ]
  },
  {
   "cell_type": "code",
   "execution_count": null,
   "metadata": {},
   "outputs": [],
   "source": [
    "# input\n",
    "perform_input = getattr(protocol, 'Input')\n",
    "perform_input()"
   ]
  },
  {
   "cell_type": "code",
   "execution_count": null,
   "metadata": {},
   "outputs": [],
   "source": [
    "tmd_microglia = protocol.morphoframe['TMD']\n",
    "print(tmd_microglia.shape)"
   ]
  },
  {
   "cell_type": "code",
   "execution_count": null,
   "metadata": {},
   "outputs": [],
   "source": [
    "from tmd.view import plot\n",
    "sample = tmd_microglia['barcodes'][0]\n",
    "plot.barcode(sample)"
   ]
  },
  {
   "cell_type": "code",
   "execution_count": null,
   "metadata": {},
   "outputs": [],
   "source": [
    "# clean frame\n",
    "perform_input = getattr(protocol, 'Clean_frame')\n",
    "perform_input()"
   ]
  },
  {
   "cell_type": "code",
   "execution_count": null,
   "metadata": {},
   "outputs": [],
   "source": [
    "# load cleaned input\n",
    "\n",
    "parameters['Protocols'].append('Load_data')\n",
    "parameters['Load_data'] = {'folderpath_to_data': 'examples/trial_folder/tmd_cleaned/Morphomics.PID_trial.Cleaned',\n",
    "                           'morphoframe_name': 'TMD'}# \n",
    "perform_input = getattr(protocol, 'Load_data')\n",
    "perform_input()"
   ]
  },
  {
   "cell_type": "code",
   "execution_count": null,
   "metadata": {},
   "outputs": [],
   "source": [
    "df = protocol.morphoframe['TMD']"
   ]
  },
  {
   "cell_type": "code",
   "execution_count": null,
   "metadata": {},
   "outputs": [],
   "source": [
    "protocol.morphoframe.keys()"
   ]
  },
  {
   "cell_type": "code",
   "execution_count": null,
   "metadata": {},
   "outputs": [],
   "source": [
    "parameters['Protocols'].append('Vectorizations')\n",
    "parameters['Vectorizations'] = {'morphoframe_filepath' : 0,\n",
    "                                'morphoframe_name' : \"TMD\",\n",
    "                                'vect_method_parameters': {#'persistence_image': { \"rescale_lims\" : False,\n",
    "                                #                                                     \"xlims\" : None,\n",
    "                                #                                                     \"ylims\" : None,\n",
    "                                #                                                     \"bw_method\" : 0.5,\n",
    "                                #                                                     \"barcode_weight\" : None,\n",
    "                                #                                                     \"norm_method\" : \"sum\",\n",
    "                                #                                                     \"resolution\" : 20\n",
    "                                #                                                 },\n",
    "                                                            'lifespan_curve': { \"rescale_lims\" : False,\n",
    "                                                                                    \"xlims\" : None,\n",
    "                                                                                    \"norm_method\" : \"id\",\n",
    "                                                                                    \"resolution\" : 50\n",
    "                                                                                },\n",
    "                                                            'betti_curve': { \"rescale_lims\" : False,\n",
    "                                                                                    \"xlims\" : None,\n",
    "                                                                                    \"norm_method\" : \"id\",\n",
    "                                                                                    \"resolution\" : 50\n",
    "                                                                                },\n",
    "                                                            'life_entropy_curve' : { \"rescale_lims\" : False,\n",
    "                                                                                    \"xlims\" : None,\n",
    "                                                                                    \"norm_method\" : \"id\",\n",
    "                                                                                    \"resolution\" : 50\n",
    "                                                                                }\n",
    "\n",
    "                                                         },\n",
    "                                'save_data' : True,\n",
    "                                'save_folder' : \"examples/trial_folder/vectors\",\n",
    "                                'file_prefix' : 0\n",
    "                                }\n",
    "perform_vectorization = getattr(protocol, 'Vectorizations')\n",
    "perform_vectorization()"
   ]
  },
  {
   "cell_type": "code",
   "execution_count": null,
   "metadata": {},
   "outputs": [],
   "source": [
    "parameters['Protocols'].append('Embedding')\n",
    "parameters['Embedding'] = {'morphoframe_filepath' : 0,\n",
    "                           'morphoframe_name' : \"TMD\",\n",
    "                           'vectors_to_embed' : 'lsc_bc_lec',\n",
    "                           'filter_pixels' : False,\n",
    "                           'normalize' : True,\n",
    "                            'embed_method_parameters' : { 'pca' : {'n_components' : 3,\n",
    "                                                                   'svd_solver' : True,\n",
    "                                                                  'pca_version' : 'normal',\n",
    "                                                                   },\n",
    "                                                        \n",
    "                                                    #    'umap' : {'n_components' : 3,\n",
    "                                                     #             'n_neighbors' : 20,\n",
    "                                                      #            'min_dist': 0.1,\n",
    "                                                       #           'spread' : 3.,\n",
    "                                                        #          'random_state' : 10,\n",
    "                                                         #         'metric' : \"manhattan\",\n",
    "                                                          #        'densmap' : False,\n",
    "                                                           #       }\n",
    "                               \n",
    "                                                        },\n",
    "                            'save_data' : True,\n",
    "                            'save_folder' : \"examples/trial_folder/embeddings\",\n",
    "                            'file_prefix' : 0\n",
    "                           }\n",
    "perform_embedding = getattr(protocol, 'Embedding')\n",
    "perform_embedding()"
   ]
  },
  {
   "cell_type": "code",
   "execution_count": null,
   "metadata": {},
   "outputs": [],
   "source": [
    "parameters['Protocols'].append('Save_EmbedInfo')\n",
    "parameters['Save_EmbedInfo'] = {'morphoframe_filepath' : 0,\n",
    "                                       'morphoframe_name' : 'TMD',\n",
    "                                       'coordinate_key' : \"pca\",\n",
    "                                       'coordinate_axisnames' : \"pca_2\",\n",
    "                                       'condition_to_save' : [\"Region\",\n",
    "                                                                \"Model\",\n",
    "                                                                \"Sex\",\n",
    "                                                            ],\n",
    "                                       'save_folder' : \"examples/trial_folder/reduction\",\n",
    "                                       'save_data' : True,\n",
    "                                       'file_prefix' : 0 \n",
    "                                        }\n",
    "perform_embedding = getattr(protocol, 'Save_EmbedInfo')\n",
    "perform_embedding()"
   ]
  },
  {
   "cell_type": "code",
   "execution_count": null,
   "metadata": {},
   "outputs": [],
   "source": [
    "parameters['Protocols'].append('Save_EmbedInfo')\n",
    "parameters['Save_EmbedInfo'] = {'morphoframe_filepath' : 0,\n",
    "                                       'morphoframe_name' : \"TMD\",\n",
    "                                       'fitted_embedder_filepath' : 0,\n",
    "                                       'embed_method' : \"pca\",\n",
    "                                       'save_folder' : \"examples/trial_folder/reduction\",\n",
    "                                       'save_data' : True,\n",
    "                                       'file_prefix' : 0 \n",
    "                                        }\n",
    "perform_embedding = getattr(protocol, 'Save_EmbedInfo')\n",
    "perform_embedding()"
   ]
  },
  {
   "cell_type": "code",
   "execution_count": null,
   "metadata": {},
   "outputs": [],
   "source": [
    "protocol.morphoframe['TMD'].Model"
   ]
  },
  {
   "cell_type": "code",
   "execution_count": null,
   "metadata": {},
   "outputs": [],
   "source": [
    "import pandas as pd\n",
    "import numpy as np\n",
    "import plotly.express as px\n",
    "\n",
    "df = protocol.morphoframe['TMD']\n",
    "\n",
    "# Mapping colors to models\n",
    "color_map = {'A': 'red', 'B': 'blue', 'C': 'green', 'D': 'orange'}\n",
    "df['color'] = df['Model'].map(color_map)\n",
    "\n",
    "# Unpacking 3D vectors\n",
    "df[['x', 'y', 'z']] = pd.DataFrame(df['pca'].tolist(), index=df.index)\n",
    "\n",
    "# Plotting with Plotly\n",
    "fig = px.scatter_3d(df, x='x', y='y', z='z', color='Model', color_discrete_map=color_map,\n",
    "                    opacity=1, size_max=10)\n",
    "fig.update_traces(marker=dict(size=3))\n",
    "# Update layout for better viewing\n",
    "fig.update_layout(\n",
    "    title='3D Scatter Plot with Color by Model',\n",
    "    scene=dict(\n",
    "        xaxis=dict(title='PCA1'),\n",
    "        yaxis=dict(title='PCA2'),\n",
    "        zaxis=dict(title='PCA3')\n",
    "    )\n",
    ")\n",
    "\n",
    "fig.show()"
   ]
  },
  {
   "cell_type": "code",
   "execution_count": null,
   "metadata": {},
   "outputs": [],
   "source": [
    "# bootstrap\n",
    "parameters[\"Bootstrap\"][\"morphoframe_name\"] = \"TMD\"\n",
    "parameters[\"Bootstrap\"][\"feature_to_bootstrap\"] = [\"barcodes\", \"bars\"] \n",
    "perform_input = getattr(protocol, 'Bootstrap')\n",
    "perform_input()"
   ]
  },
  {
   "cell_type": "code",
   "execution_count": null,
   "metadata": {},
   "outputs": [],
   "source": [
    "barcode_example = protocol.morphoframe['bootstrap_frame']['barcodes'][0]\n",
    "plot.barcode(barcode_example)"
   ]
  },
  {
   "cell_type": "code",
   "execution_count": null,
   "metadata": {},
   "outputs": [],
   "source": [
    "protocol.morphoframe[\"TMD\"].keys()"
   ]
  },
  {
   "cell_type": "code",
   "execution_count": null,
   "metadata": {},
   "outputs": [],
   "source": [
    "parameters[\"Prepare_ReductionInfo\"][\"coordinate_key\"] = ''\n",
    "perform_input = getattr(protocol, 'Prepare_ReductionInfo')\n",
    "perform_input()"
   ]
  }
 ],
 "metadata": {
  "kernelspec": {
   "display_name": "morphomics",
   "language": "python",
   "name": "python3"
  },
  "language_info": {
   "codemirror_mode": {
    "name": "ipython",
    "version": 3
   },
   "file_extension": ".py",
   "mimetype": "text/x-python",
   "name": "python",
   "nbconvert_exporter": "python",
   "pygments_lexer": "ipython3",
   "version": "3.9.-1"
  }
 },
 "nbformat": 4,
 "nbformat_minor": 2
}
