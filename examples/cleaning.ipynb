{
 "cells": [
  {
   "cell_type": "code",
   "execution_count": 1,
   "metadata": {},
   "outputs": [
    {
     "name": "stdout",
     "output_type": "stream",
     "text": [
      "Unless you have specified the file prefix in the succeeding executables, \n",
      "this will be the file prefix: Morphomics.PID_trial\n",
      "['Input', 'Clean_frame', 'Bootstrap', 'Persistence_Images', 'UMAP', 'Prepare_ReductionInfo', 'Plotting']\n"
     ]
    }
   ],
   "source": [
    "import os\n",
    "\n",
    "# Set a new working directory\n",
    "new_path = '../'\n",
    "os.chdir(new_path)\n",
    "\n",
    "from morphomics import protocols, utils\n",
    "import tomli\n",
    "\n",
    "# Path to the toml file. Contains the parameters for each protocol\n",
    "parameters_filepath = \"examples/Parameter_files/Morphomics.Parameters_trial.toml\"\n",
    "\n",
    "# read the toml file\n",
    "with open(parameters_filepath, mode=\"rb\") as _parameter_file:\n",
    "    parameters = tomli.load(_parameter_file)\n",
    "\n",
    "# get the protocol\n",
    "# from already saved protocol\n",
    "# or initialize a new protocol with parameters\n",
    "if parameters[\"load_previous_instance\"]:\n",
    "    last_instance_path = os.path.join(parameters[\"path_to_last_instance\"], f'last_instance_{parameters[\"Parameters_ID\"]}')\n",
    "    protocol = utils.load_obj(last_instance_path)\n",
    "else:\n",
    "    protocol = protocols.Protocols(parameters, parameters[\"Parameters_ID\"])\n",
    "\n",
    "script_sequence = parameters[\"Protocols\"]\n",
    "print(script_sequence)"
   ]
  },
  {
   "cell_type": "code",
   "execution_count": 2,
   "metadata": {},
   "outputs": [
    {
     "name": "stdout",
     "output_type": "stream",
     "text": [
      "Loading the data from examples/data\n",
      "Saving dataset in examples/trial_folder/tmd/Morphomics.PID_trial.TMD-radial_distances\n",
      "You are now loading the 3D reconstructions (.swc files) from this folder: \n",
      "examples/data\n",
      "\n",
      "Sample filenames:\n",
      "examples/data/S1/3xKXA/M/BL6_M_KXA1.5W_IBA488_WFA568_CD68647_DAPI_S1_2/Filament_001_Filaments_1_Trace_0032_nl_corrected.swc\n",
      "examples/data/S1/3xKXA/M/BL6_M_KXA1.5W_IBA488_WFA568_CD68647_DAPI_S1_2/Filament_001_Filaments_1_Trace_0001_nl_corrected.swc\n",
      "examples/data/S1/3xKXA/M/BL6_M_KXA1.5W_IBA488_WFA568_CD68647_DAPI_S1_2/Filament_001_Filaments_1_Trace_0048_nl_corrected.swc\n",
      "examples/data/S1/3xKXA/M/BL6_M_KXA1.5W_IBA488_WFA568_CD68647_DAPI_S1_2/Filament_001_Filaments_1_Trace_0019_nl_corrected.swc\n",
      "examples/data/S1/3xKXA/M/BL6_M_KXA1.5W_IBA488_WFA568_CD68647_DAPI_S1_2/Filament_001_Filaments_1_Trace_0034_nl_corrected.swc\n",
      " \n",
      "Found 1182 files...\n",
      "Separating DataFrame into Sex...\n",
      "There are 2 values for the separating condition...\n",
      "...processing M\n",
      "    Region     Model Sex                                          Animal  \\\n",
      "0       S1     3xKXA   M   BL6_M_KXA1.5W_IBA488_WFA568_CD68647_DAPI_S1_2   \n",
      "1       S1     3xKXA   M   BL6_M_KXA1.5W_IBA488_WFA568_CD68647_DAPI_S1_2   \n",
      "2       S1     3xKXA   M   BL6_M_KXA1.5W_IBA488_WFA568_CD68647_DAPI_S1_2   \n",
      "3       S1     3xKXA   M   BL6_M_KXA1.5W_IBA488_WFA568_CD68647_DAPI_S1_2   \n",
      "4       S1     3xKXA   M   BL6_M_KXA1.5W_IBA488_WFA568_CD68647_DAPI_S1_2   \n",
      "..     ...       ...  ..                                             ...   \n",
      "618     S1  3xSaline   M  BL6_M_CTRL1.5W_IBA488_WFA568_CD68647_DAPI_S1_1   \n",
      "619     S1  3xSaline   M  BL6_M_CTRL1.5W_IBA488_WFA568_CD68647_DAPI_S1_1   \n",
      "620     S1  3xSaline   M  BL6_M_CTRL1.5W_IBA488_WFA568_CD68647_DAPI_S1_1   \n",
      "621     S1  3xSaline   M  BL6_M_CTRL1.5W_IBA488_WFA568_CD68647_DAPI_S1_1   \n",
      "622     S1  3xSaline   M  BL6_M_CTRL1.5W_IBA488_WFA568_CD68647_DAPI_S1_1   \n",
      "\n",
      "                                            _file_name  \\\n",
      "0    Filament_001_Filaments_1_Trace_0032_nl_correct...   \n",
      "1    Filament_001_Filaments_1_Trace_0001_nl_correct...   \n",
      "2    Filament_001_Filaments_1_Trace_0048_nl_correct...   \n",
      "3    Filament_001_Filaments_1_Trace_0019_nl_correct...   \n",
      "4    Filament_001_Filaments_1_Trace_0034_nl_correct...   \n",
      "..                                                 ...   \n",
      "618  Filament_001_Filaments_1_Trace_0016_nl_correct...   \n",
      "619  Filament_001_Filaments_1_Trace_0029_nl_correct...   \n",
      "620  Filament_001_Filaments_1_Trace_0020_nl_correct...   \n",
      "621  Filament_001_Filaments_1_Trace_0025_nl_correct...   \n",
      "622  Filament_001_Filaments_1_Trace_0033_nl_correct...   \n",
      "\n",
      "                                          path_to_file  \n",
      "0    examples/data/S1/3xKXA/M/BL6_M_KXA1.5W_IBA488_...  \n",
      "1    examples/data/S1/3xKXA/M/BL6_M_KXA1.5W_IBA488_...  \n",
      "2    examples/data/S1/3xKXA/M/BL6_M_KXA1.5W_IBA488_...  \n",
      "3    examples/data/S1/3xKXA/M/BL6_M_KXA1.5W_IBA488_...  \n",
      "4    examples/data/S1/3xKXA/M/BL6_M_KXA1.5W_IBA488_...  \n",
      "..                                                 ...  \n",
      "618  examples/data/S1/3xSaline/M/BL6_M_CTRL1.5W_IBA...  \n",
      "619  examples/data/S1/3xSaline/M/BL6_M_CTRL1.5W_IBA...  \n",
      "620  examples/data/S1/3xSaline/M/BL6_M_CTRL1.5W_IBA...  \n",
      "621  examples/data/S1/3xSaline/M/BL6_M_CTRL1.5W_IBA...  \n",
      "622  examples/data/S1/3xSaline/M/BL6_M_CTRL1.5W_IBA...  \n",
      "\n",
      "[623 rows x 6 columns]\n"
     ]
    },
    {
     "ename": "NameError",
     "evalue": "name 'get_barcodes_from_df' is not defined",
     "output_type": "error",
     "traceback": [
      "\u001b[0;31m---------------------------------------------------------------------------\u001b[0m",
      "\u001b[0;31mNameError\u001b[0m                                 Traceback (most recent call last)",
      "Cell \u001b[0;32mIn[2], line 3\u001b[0m\n\u001b[1;32m      1\u001b[0m \u001b[38;5;66;03m# input\u001b[39;00m\n\u001b[1;32m      2\u001b[0m perform_input \u001b[38;5;241m=\u001b[39m \u001b[38;5;28mgetattr\u001b[39m(protocol, \u001b[38;5;124m'\u001b[39m\u001b[38;5;124mInput\u001b[39m\u001b[38;5;124m'\u001b[39m)\n\u001b[0;32m----> 3\u001b[0m \u001b[43mperform_input\u001b[49m\u001b[43m(\u001b[49m\u001b[43m)\u001b[49m\n",
      "File \u001b[0;32m~/Desktop/morphOMICs/morphomics/protocols.py:97\u001b[0m, in \u001b[0;36mProtocols.Input\u001b[0;34m(self)\u001b[0m\n\u001b[1;32m     94\u001b[0m \u001b[38;5;28mprint\u001b[39m(\u001b[38;5;124m\"\u001b[39m\u001b[38;5;124mSaving dataset in \u001b[39m\u001b[38;5;132;01m%s\u001b[39;00m\u001b[38;5;124m\"\u001b[39m\u001b[38;5;241m%\u001b[39m(save_filename))\n\u001b[1;32m     96\u001b[0m \u001b[38;5;66;03m# load the data\u001b[39;00m\n\u001b[0;32m---> 97\u001b[0m \u001b[38;5;28mself\u001b[39m\u001b[38;5;241m.\u001b[39mmorphoframe[params[\u001b[38;5;124m\"\u001b[39m\u001b[38;5;124mmorphoframe_name\u001b[39m\u001b[38;5;124m\"\u001b[39m]] \u001b[38;5;241m=\u001b[39m \u001b[43mmorphomics\u001b[49m\u001b[38;5;241;43m.\u001b[39;49m\u001b[43mold_methods\u001b[49m\u001b[38;5;241;43m.\u001b[39;49m\u001b[43mload_data\u001b[49m\u001b[43m(\u001b[49m\n\u001b[1;32m     98\u001b[0m \u001b[43m    \u001b[49m\u001b[43mfolder_location\u001b[49m\u001b[38;5;241;43m=\u001b[39;49m\u001b[43mparams\u001b[49m\u001b[43m[\u001b[49m\u001b[38;5;124;43m\"\u001b[39;49m\u001b[38;5;124;43mdata_location_filepath\u001b[39;49m\u001b[38;5;124;43m\"\u001b[39;49m\u001b[43m]\u001b[49m\u001b[43m,\u001b[49m\n\u001b[1;32m     99\u001b[0m \u001b[43m    \u001b[49m\u001b[43mextension\u001b[49m\u001b[38;5;241;43m=\u001b[39;49m\u001b[43mparams\u001b[49m\u001b[43m[\u001b[49m\u001b[38;5;124;43m\"\u001b[39;49m\u001b[38;5;124;43mextension\u001b[39;49m\u001b[38;5;124;43m\"\u001b[39;49m\u001b[43m]\u001b[49m\u001b[43m,\u001b[49m\n\u001b[1;32m    100\u001b[0m \u001b[43m    \u001b[49m\u001b[43mconditions\u001b[49m\u001b[38;5;241;43m=\u001b[39;49m\u001b[43mparams\u001b[49m\u001b[43m[\u001b[49m\u001b[38;5;124;43m\"\u001b[39;49m\u001b[38;5;124;43mconditions\u001b[39;49m\u001b[38;5;124;43m\"\u001b[39;49m\u001b[43m]\u001b[49m\u001b[43m,\u001b[49m\n\u001b[1;32m    101\u001b[0m \u001b[43m    \u001b[49m\u001b[43mfiltration_function\u001b[49m\u001b[38;5;241;43m=\u001b[39;49m\u001b[43mparams\u001b[49m\u001b[43m[\u001b[49m\u001b[38;5;124;43m\"\u001b[39;49m\u001b[38;5;124;43mfiltration_function\u001b[39;49m\u001b[38;5;124;43m\"\u001b[39;49m\u001b[43m]\u001b[49m\u001b[43m,\u001b[49m\n\u001b[1;32m    102\u001b[0m \u001b[43m    \u001b[49m\u001b[43mseparated_by\u001b[49m\u001b[38;5;241;43m=\u001b[39;49m\u001b[43mparams\u001b[49m\u001b[43m[\u001b[49m\u001b[38;5;124;43m\"\u001b[39;49m\u001b[38;5;124;43mseparated_by\u001b[39;49m\u001b[38;5;124;43m\"\u001b[39;49m\u001b[43m]\u001b[49m\u001b[43m,\u001b[49m\n\u001b[1;32m    103\u001b[0m \u001b[43m    \u001b[49m\u001b[43msave_filename\u001b[49m\u001b[38;5;241;43m=\u001b[39;49m\u001b[43msave_filename\u001b[49m\u001b[43m,\u001b[49m\n\u001b[1;32m    104\u001b[0m \u001b[43m\u001b[49m\u001b[43m)\u001b[49m\n\u001b[1;32m    106\u001b[0m \u001b[38;5;28mprint\u001b[39m(\u001b[38;5;124m\"\u001b[39m\u001b[38;5;124mInput done!\u001b[39m\u001b[38;5;124m\"\u001b[39m)\n",
      "File \u001b[0;32m~/Desktop/morphOMICs/morphomics/old_methods.py:80\u001b[0m, in \u001b[0;36mload_data\u001b[0;34m(folder_location, extension, filtration_function, save_filename, conditions, separated_by)\u001b[0m\n\u001b[1;32m     78\u001b[0m         \u001b[38;5;28;01mif\u001b[39;00m save_filename \u001b[38;5;129;01mis\u001b[39;00m \u001b[38;5;129;01mnot\u001b[39;00m \u001b[38;5;28;01mNone\u001b[39;00m:\n\u001b[1;32m     79\u001b[0m             _save_filename \u001b[38;5;241m=\u001b[39m \u001b[38;5;124m\"\u001b[39m\u001b[38;5;132;01m%s\u001b[39;00m\u001b[38;5;124m.\u001b[39m\u001b[38;5;132;01m%s\u001b[39;00m\u001b[38;5;124m-\u001b[39m\u001b[38;5;132;01m%s\u001b[39;00m\u001b[38;5;124m\"\u001b[39m \u001b[38;5;241m%\u001b[39m (save_filename, separated_by, _c)\n\u001b[0;32m---> 80\u001b[0m         info_frame[_c] \u001b[38;5;241m=\u001b[39m \u001b[43mget_barcodes_from_df\u001b[49m(\n\u001b[1;32m     81\u001b[0m             _InfoFrame, barcode_filter\u001b[38;5;241m=\u001b[39mbarcode_filter, save_filename\u001b[38;5;241m=\u001b[39m_save_filename\n\u001b[1;32m     82\u001b[0m         )\n\u001b[1;32m     84\u001b[0m     info_frame \u001b[38;5;241m=\u001b[39m _pd\u001b[38;5;241m.\u001b[39mconcat([info_frame[_c] \u001b[38;5;28;01mfor\u001b[39;00m _c \u001b[38;5;129;01min\u001b[39;00m cond_values], ignore_index\u001b[38;5;241m=\u001b[39m\u001b[38;5;28;01mTrue\u001b[39;00m)\n\u001b[1;32m     86\u001b[0m \u001b[38;5;28;01melse\u001b[39;00m:\n",
      "\u001b[0;31mNameError\u001b[0m: name 'get_barcodes_from_df' is not defined"
     ]
    }
   ],
   "source": [
    "# input\n",
    "perform_input = getattr(protocol, 'Input')\n",
    "perform_input()"
   ]
  }
 ],
 "metadata": {
  "kernelspec": {
   "display_name": "morphomics",
   "language": "python",
   "name": "python3"
  },
  "language_info": {
   "codemirror_mode": {
    "name": "ipython",
    "version": 3
   },
   "file_extension": ".py",
   "mimetype": "text/x-python",
   "name": "python",
   "nbconvert_exporter": "python",
   "pygments_lexer": "ipython3",
   "version": "3.9.19"
  }
 },
 "nbformat": 4,
 "nbformat_minor": 2
}
