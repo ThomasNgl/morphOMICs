{
 "cells": [
  {
   "cell_type": "code",
   "execution_count": null,
   "metadata": {},
   "outputs": [],
   "source": [
    "%load_ext autoreload\n",
    "%autoreload 2"
   ]
  },
  {
   "cell_type": "code",
   "execution_count": null,
   "metadata": {},
   "outputs": [],
   "source": [
    "import os\n",
    "\n",
    "# Set a new working directory\n",
    "new_path = '../'\n",
    "os.chdir(new_path)"
   ]
  },
  {
   "cell_type": "code",
   "execution_count": null,
   "metadata": {},
   "outputs": [],
   "source": [
    "from morphomics import protocols, utils\n",
    "import tomli\n",
    "\n",
    "# Path to the toml file. Contains the parameters for each protocol\n",
    "parameters_filepath = \"examples/Parameter_files/Morphomics.Parameters_trial.toml\"\n",
    "\n",
    "# read the toml file\n",
    "with open(parameters_filepath, mode=\"rb\") as _parameter_file:\n",
    "    parameters = tomli.load(_parameter_file)\n",
    "\n",
    "# get the protocol\n",
    "# from already saved protocol\n",
    "# or initialize a new protocol with parameters\n",
    "if parameters[\"load_previous_instance\"]:\n",
    "    last_instance_path = os.path.join(parameters[\"path_to_last_instance\"], f'last_instance_{parameters[\"Parameters_ID\"]}')\n",
    "    protocol = utils.load_obj(last_instance_path)\n",
    "else:\n",
    "    protocol = protocols.Protocols(parameters, parameters[\"Parameters_ID\"])\n",
    "\n",
    "script_sequence = parameters[\"Protocols\"]\n",
    "print(script_sequence)"
   ]
  },
  {
   "cell_type": "code",
   "execution_count": null,
   "metadata": {},
   "outputs": [],
   "source": [
    "# input\n",
    "perform_input = getattr(protocol, 'Input')\n",
    "perform_input()"
   ]
  },
  {
   "cell_type": "code",
   "execution_count": null,
   "metadata": {},
   "outputs": [],
   "source": [
    "tmd_microglia = protocol.morphoframe['TMD']\n",
    "print(tmd_microglia.shape)"
   ]
  },
  {
   "cell_type": "code",
   "execution_count": null,
   "metadata": {},
   "outputs": [],
   "source": [
    "tmd_microglia.barcodes"
   ]
  },
  {
   "cell_type": "code",
   "execution_count": null,
   "metadata": {},
   "outputs": [],
   "source": [
    "from tmd.view import plot\n",
    "sample = tmd_microglia['barcodes'][0]\n",
    "plot.barcode(sample)"
   ]
  },
  {
   "cell_type": "code",
   "execution_count": null,
   "metadata": {},
   "outputs": [],
   "source": [
    "# clean frame\n",
    "perform_input = getattr(protocol, 'Clean_frame')\n",
    "perform_input()"
   ]
  },
  {
   "cell_type": "code",
   "execution_count": null,
   "metadata": {},
   "outputs": [],
   "source": [
    "# load cleaned input\n",
    "\n",
    "parameters['Protocols'].append('Load_data')\n",
    "parameters['Load_data'] = {'folderpath_to_data': 'examples/trial_folder/tmd_cleaned/Morphomics.PID_trial.Cleaned',\n",
    "                           'morphoframe_name': 'TMD'}# \n",
    "perform_input = getattr(protocol, 'Load_data')\n",
    "perform_input()"
   ]
  },
  {
   "cell_type": "code",
   "execution_count": null,
   "metadata": {},
   "outputs": [],
   "source": [
    "df = protocol.morphoframe['TMD']"
   ]
  },
  {
   "cell_type": "code",
   "execution_count": null,
   "metadata": {},
   "outputs": [],
   "source": [
    "# PI\n",
    "perform_input = getattr(protocol, 'Persistence_Images')\n",
    "perform_input()"
   ]
  },
  {
   "cell_type": "code",
   "execution_count": null,
   "metadata": {},
   "outputs": [],
   "source": [
    "parameters['Protocols'].append('Vectorizations')\n",
    "parameters['Vectorizations'] = {'morphoframe_filepath' : 0,\n",
    "                                'morphoframe_name' : \"TMD\",\n",
    "                                'vect_method_parameters': {'persistence_image': { \"rescale_lims\" : False,\n",
    "                                                                                    \"xlims\" : None,\n",
    "                                                                                    \"ylims\" : None,\n",
    "                                                                                    \"bw_method\" : 0.5,\n",
    "                                                                                    \"barcode_weight\" : None,\n",
    "                                                                                    \"norm_method\" : \"sum\",\n",
    "                                                                                    \"resolution\" : 20\n",
    "                                                                                },\n",
    "                                                            'lifespan_curve': { \"rescale_lims\" : False,\n",
    "                                                                                    \"xlims\" : None,\n",
    "                                                                                    \"norm_method\" : \"sum\",\n",
    "                                                                                    \"resolution\" : 100\n",
    "                                                                                },\n",
    "                                                            'betti_curve': { \"rescale_lims\" : False,\n",
    "                                                                                    \"xlims\" : None,\n",
    "                                                                                    \"norm_method\" : \"sum\",\n",
    "                                                                                    \"resolution\" : 100\n",
    "                                                                                },\n",
    "\n",
    "                                                         },\n",
    "                                'save_data' : True,\n",
    "                                'save_folder' : \"examples/trial_folder/vectors\",\n",
    "                                'file_prefix' : 0\n",
    "                                }\n",
    "perform_vectorization = getattr(protocol, 'Vectorizations')\n",
    "perform_vectorization()"
   ]
  },
  {
   "cell_type": "code",
   "execution_count": null,
   "metadata": {},
   "outputs": [],
   "source": [
    "protocol.metadata['vectorization'].shape"
   ]
  }
 ],
 "metadata": {
  "kernelspec": {
   "display_name": "morphomics",
   "language": "python",
   "name": "python3"
  },
  "language_info": {
   "codemirror_mode": {
    "name": "ipython",
    "version": 3
   },
   "file_extension": ".py",
   "mimetype": "text/x-python",
   "name": "python",
   "nbconvert_exporter": "python",
   "pygments_lexer": "ipython3",
   "version": "3.9.19"
  }
 },
 "nbformat": 4,
 "nbformat_minor": 2
}
