{
 "cells": [
  {
   "cell_type": "code",
   "execution_count": 1,
   "metadata": {},
   "outputs": [],
   "source": [
    "%load_ext autoreload\n",
    "%autoreload 2"
   ]
  },
  {
   "cell_type": "code",
   "execution_count": 2,
   "metadata": {},
   "outputs": [
    {
     "name": "stdout",
     "output_type": "stream",
     "text": [
      "Unless you have specified the file prefix in the succeeding executables, \n",
      "this will be the file prefix: Morphomics.PID_test\n"
     ]
    }
   ],
   "source": [
    "import os\n",
    "# Set a new working directory\n",
    "new_path = '../'\n",
    "os.chdir(new_path)\n",
    "\n",
    "from morphomics import protocols, utils\n",
    "import tomli\n",
    "\n",
    "# Path to the toml file. Contains the parameters for each protocol\n",
    "parameters_filepath = \"examples/Parameter_files/Morphomics.Parameters_protocols_test.toml\"\n",
    "\n",
    "# read the toml file\n",
    "with open(parameters_filepath, mode=\"rb\") as _parameter_file:\n",
    "    parameters = tomli.load(_parameter_file)\n",
    "\n",
    "# get the protocol\n",
    "# from already saved protocol\n",
    "# or initialize a new protocol with parameters\n",
    "last_instance_path = os.path.join(parameters[\"path_to_last_instance\"], f'last_instance_{parameters[\"Parameters_ID\"]}')\n",
    "if parameters[\"load_previous_instance\"]:\n",
    "    protocol = utils.load_obj(last_instance_path)\n",
    "else:\n",
    "    protocol = protocols.Protocols(parameters, parameters[\"Parameters_ID\"])\n"
   ]
  },
  {
   "cell_type": "code",
   "execution_count": 3,
   "metadata": {},
   "outputs": [
    {
     "name": "stdout",
     "output_type": "stream",
     "text": [
      "['Input', 'Clean_frame', 'Vectorizations', 'Dim_reductions', 'Save_reduced', 'Mapping']\n"
     ]
    }
   ],
   "source": [
    "script_sequence = parameters['Protocols_test']\n",
    "print(script_sequence)"
   ]
  },
  {
   "cell_type": "code",
   "execution_count": 4,
   "metadata": {},
   "outputs": [
    {
     "name": "stdout",
     "output_type": "stream",
     "text": [
      "Loading the data from examples/data_test\n",
      "Saving dataset in examples/trial_folder/tmd_test/Morphomics.PID_test.TMD-radial_distances\n",
      "You are now loading the 3D reconstructions (.swc files) from this folder: \n",
      "examples/data_test\n",
      "\n",
      "Sample filenames:\n",
      "examples/data_test/S1/3xKXA/M/BL6_M_KXA1.5W_IBA488_WFA568_CD68647_DAPI_S1_2/Filament_001_Filaments_1_Trace_0032_nl_corrected.swc\n",
      "examples/data_test/S1/3xKXA/M/BL6_M_KXA1.5W_IBA488_WFA568_CD68647_DAPI_S1_2/Filament_001_Filaments_1_Trace_0001_nl_corrected.swc\n",
      "examples/data_test/S1/3xKXA/M/BL6_M_KXA1.5W_IBA488_WFA568_CD68647_DAPI_S1_2/Filament_001_Filaments_1_Trace_0048_nl_corrected.swc\n",
      "examples/data_test/S1/3xKXA/M/BL6_M_KXA1.5W_IBA488_WFA568_CD68647_DAPI_S1_2/Filament_001_Filaments_1_Trace_0019_nl_corrected.swc\n",
      "examples/data_test/S1/3xKXA/M/BL6_M_KXA1.5W_IBA488_WFA568_CD68647_DAPI_S1_2/Filament_001_Filaments_1_Trace_0034_nl_corrected.swc\n",
      " \n",
      "[['S1' '3xKXA' 'M' 'BL6_M_KXA1.5W_IBA488_WFA568_CD68647_DAPI_S1_2'\n",
      "  'Filament_001_Filaments_1_Trace_0032_nl_corrected.swc']\n",
      " ['S1' '3xKXA' 'M' 'BL6_M_KXA1.5W_IBA488_WFA568_CD68647_DAPI_S1_2'\n",
      "  'Filament_001_Filaments_1_Trace_0001_nl_corrected.swc']\n",
      " ['S1' '3xKXA' 'M' 'BL6_M_KXA1.5W_IBA488_WFA568_CD68647_DAPI_S1_2'\n",
      "  'Filament_001_Filaments_1_Trace_0048_nl_corrected.swc']\n",
      " ...\n",
      " ['S1' '2xKXA' 'F' 'BL6_2xKXA_F_WFA488_IBA568_CD68647_S1_3'\n",
      "  'Filament_001_Filaments_1_Trace_0020_nl_corrected.swc']\n",
      " ['S1' '2xKXA' 'F' 'BL6_2xKXA_F_WFA488_IBA568_CD68647_S1_3'\n",
      "  'Filament_001_Filaments_1_Trace_0025_nl_corrected.swc']\n",
      " ['S1' '2xKXA' 'F' 'BL6_2xKXA_F_WFA488_IBA568_CD68647_S1_3'\n",
      "  'Filament_001_Filaments_1_Trace_0033_nl_corrected.swc']]\n",
      "Found 961 files...\n",
      "Separating DataFrame into Model...\n",
      "There are 3 values for the separating condition...\n",
      "...processing 3xKXA\n",
      "You have loaded 25% chunk of the data...\n",
      "You have loaded 50% chunk of the data...\n",
      "You have loaded 75% chunk of the data...\n",
      "...finished loading morphologies and barcodes...\n",
      "! Warning: You have 0 .swc files that did not load. Potentially, empty files. Please check *-FailedFiles\n",
      "...processing 1xKXA\n",
      "You have loaded 25% chunk of the data...\n",
      "You have loaded 50% chunk of the data...\n",
      "You have loaded 75% chunk of the data...\n",
      "...finished loading morphologies and barcodes...\n",
      "! Warning: You have 3 .swc files that did not load. Potentially, empty files. Please check *-FailedFiles\n",
      "...processing 2xKXA\n",
      "You have loaded 25% chunk of the data...\n",
      "You have loaded 50% chunk of the data...\n",
      "You have loaded 75% chunk of the data...\n",
      "...finished loading morphologies and barcodes...\n",
      "! Warning: You have 0 .swc files that did not load. Potentially, empty files. Please check *-FailedFiles\n",
      "Input done!\n"
     ]
    }
   ],
   "source": [
    "perform_this = getattr(protocol, 'Input')\n",
    "perform_this()"
   ]
  },
  {
   "cell_type": "code",
   "execution_count": 5,
   "metadata": {},
   "outputs": [
    {
     "name": "stdout",
     "output_type": "stream",
     "text": [
      "Removing morphologies with barcode size less than 5.00...\n",
      "Replacing all instances of `['Saline_4h', 'Saline_48h']` in the `Model` morphoframe column with Adult\n",
      "Clean done!\n"
     ]
    }
   ],
   "source": [
    "perform_this = getattr(protocol, 'Clean_frame')\n",
    "perform_this()"
   ]
  },
  {
   "cell_type": "code",
   "execution_count": 6,
   "metadata": {},
   "outputs": [
    {
     "name": "stdout",
     "output_type": "stream",
     "text": [
      "Computes lsc_bc_lec and concatenates the vectors\n",
      "Computing lifespan curves...\n",
      "lsc done! \n",
      "\n",
      "Computing betti curves...\n",
      "bc done! \n",
      "\n",
      "Computing life entropy curves...\n",
      "lec done! \n",
      "\n",
      "Vectorization done!\n"
     ]
    }
   ],
   "source": [
    "perform_this = getattr(protocol, 'Vectorizations')\n",
    "perform_this()"
   ]
  },
  {
   "cell_type": "code",
   "execution_count": 7,
   "metadata": {},
   "outputs": [
    {
     "name": "stdout",
     "output_type": "stream",
     "text": [
      "Bootstrapping with the following parameters: \n",
      "bootstrap resolution: Region-Model-Sex\n",
      "bootstrap size: 15\n",
      "number of bootstraps: 500\n",
      "Performing bootstrapping for S1_3xKXA_M...\n",
      "There are 136 morphologies to bootstrap...\n",
      "Performing subsampling by random selection...\n",
      "...done! \n",
      "\n",
      "Performing bootstrapping for S1_3xKXA_F...\n",
      "There are 152 morphologies to bootstrap...\n",
      "Performing subsampling by random selection...\n",
      "...done! \n",
      "\n",
      "Performing bootstrapping for S1_1xKXA_M...\n",
      "There are 211 morphologies to bootstrap...\n",
      "Performing subsampling by random selection...\n",
      "...done! \n",
      "\n",
      "Performing bootstrapping for S1_1xKXA_F...\n",
      "There are 160 morphologies to bootstrap...\n",
      "Performing subsampling by random selection...\n",
      "...done! \n",
      "\n",
      "Performing bootstrapping for S1_2xKXA_M...\n",
      "There are 159 morphologies to bootstrap...\n",
      "Performing subsampling by random selection...\n",
      "...done! \n",
      "\n",
      "Performing bootstrapping for S1_2xKXA_F...\n",
      "There are 136 morphologies to bootstrap...\n",
      "Performing subsampling by random selection...\n",
      "...done! \n",
      "\n",
      "Bootstrap done!\n"
     ]
    }
   ],
   "source": [
    "perform_this = getattr(protocol, 'Bootstrap')\n",
    "perform_this()"
   ]
  },
  {
   "cell_type": "code",
   "execution_count": 8,
   "metadata": {},
   "outputs": [
    {
     "name": "stdout",
     "output_type": "stream",
     "text": [
      "Normalize the vectors\n",
      "Reduces the vectors with the following techniques pca_umap \n",
      "Running PCA...\n",
      "Running UMAP...\n"
     ]
    },
    {
     "name": "stderr",
     "output_type": "stream",
     "text": [
      "/home/thomas/miniconda3/envs/morphomics/lib/python3.9/site-packages/umap/umap_.py:1943: UserWarning: n_jobs value -1 overridden to 1 by setting random_state. Use no seed for parallelism.\n",
      "  warn(f\"n_jobs value {self.n_jobs} overridden to 1 by setting random_state. Use no seed for parallelism.\")\n"
     ]
    },
    {
     "name": "stdout",
     "output_type": "stream",
     "text": [
      "Reducing done!\n"
     ]
    }
   ],
   "source": [
    "perform_this = getattr(protocol, 'Dim_reductions')\n",
    "perform_this()"
   ]
  },
  {
   "cell_type": "code",
   "execution_count": 9,
   "metadata": {},
   "outputs": [
    {
     "name": "stdout",
     "output_type": "stream",
     "text": [
      "Preparing .csv file that can be loaded into the morphOMICs dashboard...\n",
      "Reduced coordinates splitted and saved!\n"
     ]
    }
   ],
   "source": [
    "perform_this = getattr(protocol, 'Save_reduced')\n",
    "#perform_this()"
   ]
  },
  {
   "cell_type": "code",
   "execution_count": 10,
   "metadata": {},
   "outputs": [
    {
     "name": "stdout",
     "output_type": "stream",
     "text": [
      "Loading fitted dim reduction function...\n",
      "Loading examples/trial_folder/embeddings_train/Morphomics.PID_train.Embeddings-pca_umap_fitted_embedder.pkl file...\n"
     ]
    },
    {
     "ename": "FileNotFoundError",
     "evalue": "[Errno 2] No such file or directory: 'examples/trial_folder/embeddings_train/Morphomics.PID_train.Embeddings-pca_umap_fitted_embedder.pkl'",
     "output_type": "error",
     "traceback": [
      "\u001b[0;31m---------------------------------------------------------------------------\u001b[0m",
      "\u001b[0;31mFileNotFoundError\u001b[0m                         Traceback (most recent call last)",
      "Cell \u001b[0;32mIn[10], line 2\u001b[0m\n\u001b[1;32m      1\u001b[0m perform_this \u001b[38;5;241m=\u001b[39m \u001b[38;5;28mgetattr\u001b[39m(protocol, \u001b[38;5;124m'\u001b[39m\u001b[38;5;124mMapping\u001b[39m\u001b[38;5;124m'\u001b[39m)\n\u001b[0;32m----> 2\u001b[0m \u001b[43mperform_this\u001b[49m\u001b[43m(\u001b[49m\u001b[43m)\u001b[49m\n",
      "File \u001b[0;32m~/Desktop/morphOMICs/morphomics/protocols.py:716\u001b[0m, in \u001b[0;36mProtocols.Mapping\u001b[0;34m(self)\u001b[0m\n\u001b[1;32m    714\u001b[0m \u001b[38;5;66;03m# define morphoframe that contains the fitted reducer\u001b[39;00m\n\u001b[1;32m    715\u001b[0m \u001b[38;5;28mprint\u001b[39m(\u001b[38;5;124m\"\u001b[39m\u001b[38;5;124mLoading fitted dim reduction function...\u001b[39m\u001b[38;5;124m\"\u001b[39m)    \n\u001b[0;32m--> 716\u001b[0m _metadata \u001b[38;5;241m=\u001b[39m \u001b[38;5;28;43mself\u001b[39;49m\u001b[38;5;241;43m.\u001b[39;49m\u001b[43m_get_variable\u001b[49m\u001b[43m(\u001b[49m\u001b[43mvariable_filepath\u001b[49m\u001b[43m \u001b[49m\u001b[38;5;241;43m=\u001b[39;49m\u001b[43m \u001b[49m\u001b[43mfitted_dimreducer_filepath\u001b[49m\u001b[43m,\u001b[49m\n\u001b[1;32m    717\u001b[0m \u001b[43m                                    \u001b[49m\u001b[43mvariable_name\u001b[49m\u001b[43m \u001b[49m\u001b[38;5;241;43m=\u001b[39;49m\u001b[43m \u001b[49m\u001b[38;5;28;43;01mNone\u001b[39;49;00m\u001b[43m,\u001b[49m\n\u001b[1;32m    718\u001b[0m \u001b[43m                                    \u001b[49m\u001b[43mcolumn_name\u001b[49m\u001b[43m \u001b[49m\u001b[38;5;241;43m=\u001b[39;49m\u001b[43m \u001b[49m\u001b[43mdimred_method\u001b[49m\u001b[43m,\u001b[49m\n\u001b[1;32m    719\u001b[0m \u001b[43m                                    \u001b[49m\u001b[43mmorphoframe\u001b[49m\u001b[43m \u001b[49m\u001b[38;5;241;43m=\u001b[39;49m\u001b[43m \u001b[49m\u001b[38;5;28;43;01mFalse\u001b[39;49;00m\u001b[43m)\u001b[49m\n\u001b[1;32m    720\u001b[0m f_dimreducers \u001b[38;5;241m=\u001b[39m _metadata[dimred_method]\n\u001b[1;32m    722\u001b[0m \u001b[38;5;28mprint\u001b[39m(\u001b[38;5;124m\"\u001b[39m\u001b[38;5;124mLoading persistence vectors to reduce file...\u001b[39m\u001b[38;5;124m\"\u001b[39m)\n",
      "File \u001b[0;32m~/Desktop/morphOMICs/morphomics/protocols.py:69\u001b[0m, in \u001b[0;36mProtocols._get_variable\u001b[0;34m(self, variable_filepath, variable_name, column_name, morphoframe)\u001b[0m\n\u001b[1;32m     67\u001b[0m \u001b[38;5;28;01mif\u001b[39;00m variable_filepath:\n\u001b[1;32m     68\u001b[0m     \u001b[38;5;28mprint\u001b[39m(\u001b[38;5;124m\"\u001b[39m\u001b[38;5;124mLoading \u001b[39m\u001b[38;5;132;01m%s\u001b[39;00m\u001b[38;5;124m file...\u001b[39m\u001b[38;5;124m\"\u001b[39m \u001b[38;5;241m%\u001b[39m(variable_filepath))\n\u001b[0;32m---> 69\u001b[0m     _column \u001b[38;5;241m=\u001b[39m \u001b[43mmorphomics\u001b[49m\u001b[38;5;241;43m.\u001b[39;49m\u001b[43mutils\u001b[49m\u001b[38;5;241;43m.\u001b[39;49m\u001b[43mload_obj\u001b[49m\u001b[43m(\u001b[49m\u001b[43mvariable_filepath\u001b[49m\u001b[38;5;241;43m.\u001b[39;49m\u001b[43mreplace\u001b[49m\u001b[43m(\u001b[49m\u001b[38;5;124;43m\"\u001b[39;49m\u001b[38;5;124;43m.pkl\u001b[39;49m\u001b[38;5;124;43m\"\u001b[39;49m\u001b[43m,\u001b[49m\u001b[43m \u001b[49m\u001b[38;5;124;43m\"\u001b[39;49m\u001b[38;5;124;43m\"\u001b[39;49m\u001b[43m)\u001b[49m\u001b[43m)\u001b[49m\n\u001b[1;32m     70\u001b[0m     \u001b[38;5;28;01mif\u001b[39;00m column_name:\n\u001b[1;32m     71\u001b[0m         _morphoframe \u001b[38;5;241m=\u001b[39m {column_name : _column}\n",
      "File \u001b[0;32m~/Desktop/morphOMICs/morphomics/utils.py:68\u001b[0m, in \u001b[0;36mload_obj\u001b[0;34m(name)\u001b[0m\n\u001b[1;32m     65\u001b[0m \u001b[38;5;28;01mdef\u001b[39;00m \u001b[38;5;21mload_obj\u001b[39m(name):\n\u001b[1;32m     66\u001b[0m     \u001b[38;5;66;03m# Function to load a pkl file\u001b[39;00m\n\u001b[0;32m---> 68\u001b[0m     \u001b[38;5;28;01mwith\u001b[39;00m \u001b[38;5;28;43mopen\u001b[39;49m\u001b[43m(\u001b[49m\u001b[43mname\u001b[49m\u001b[43m \u001b[49m\u001b[38;5;241;43m+\u001b[39;49m\u001b[43m \u001b[49m\u001b[38;5;124;43m\"\u001b[39;49m\u001b[38;5;124;43m.pkl\u001b[39;49m\u001b[38;5;124;43m\"\u001b[39;49m\u001b[43m,\u001b[49m\u001b[43m \u001b[49m\u001b[38;5;124;43m\"\u001b[39;49m\u001b[38;5;124;43mrb\u001b[39;49m\u001b[38;5;124;43m\"\u001b[39;49m\u001b[43m)\u001b[49m \u001b[38;5;28;01mas\u001b[39;00m f:\n\u001b[1;32m     69\u001b[0m         \u001b[38;5;28;01mreturn\u001b[39;00m pkl\u001b[38;5;241m.\u001b[39mload(f)\n",
      "\u001b[0;31mFileNotFoundError\u001b[0m: [Errno 2] No such file or directory: 'examples/trial_folder/embeddings_train/Morphomics.PID_train.Embeddings-pca_umap_fitted_embedder.pkl'"
     ]
    }
   ],
   "source": [
    "perform_this = getattr(protocol, 'Mapping')\n",
    "perform_this()"
   ]
  },
  {
   "cell_type": "code",
   "execution_count": null,
   "metadata": {},
   "outputs": [],
   "source": [
    "protocol.morphoframe"
   ]
  },
  {
   "cell_type": "code",
   "execution_count": null,
   "metadata": {},
   "outputs": [],
   "source": [
    "protocol.metadata"
   ]
  },
  {
   "cell_type": "code",
   "execution_count": null,
   "metadata": {},
   "outputs": [],
   "source": [
    "script_sequence = parameters[\"Protocols\"]\n",
    "for sequence in script_sequence:\n",
    "    print(\"Doing %s...\"%sequence)\n",
    "    perform_this = getattr(protocol, sequence)\n",
    "    perform_this()\n",
    "if parameters[\"save_last_instance\"]:\n",
    "    utils.save_obj(protocol, last_instance_path)"
   ]
  }
 ],
 "metadata": {
  "kernelspec": {
   "display_name": "venv",
   "language": "python",
   "name": "python3"
  },
  "language_info": {
   "codemirror_mode": {
    "name": "ipython",
    "version": 3
   },
   "file_extension": ".py",
   "mimetype": "text/x-python",
   "name": "python",
   "nbconvert_exporter": "python",
   "pygments_lexer": "ipython3",
   "version": "3.9.19"
  }
 },
 "nbformat": 4,
 "nbformat_minor": 2
}
