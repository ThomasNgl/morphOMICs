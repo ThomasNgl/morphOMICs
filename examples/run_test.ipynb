{
 "cells": [
  {
   "cell_type": "code",
   "execution_count": null,
   "metadata": {},
   "outputs": [],
   "source": [
    "%load_ext autoreload\n",
    "%autoreload 2"
   ]
  },
  {
   "cell_type": "code",
   "execution_count": null,
   "metadata": {},
   "outputs": [],
   "source": [
    "import os\n",
    "# Set a new working directory\n",
    "new_path = '../'\n",
    "os.chdir(new_path)\n",
    "\n",
    "from morphomics import protocols, utils\n",
    "import tomli\n",
    "\n",
    "# Path to the toml file. Contains the parameters for each protocol\n",
    "parameters_filepath = \"examples/Parameter_files/Morphomics.Parameters_protocols_test.toml\"\n",
    "\n",
    "# read the toml file\n",
    "with open(parameters_filepath, mode=\"rb\") as _parameter_file:\n",
    "    parameters = tomli.load(_parameter_file)\n",
    "\n",
    "# get the protocol\n",
    "# from already saved protocol\n",
    "# or initialize a new protocol with parameters\n",
    "last_instance_path = os.path.join(parameters[\"path_to_last_instance\"], f'last_instance_{parameters[\"Parameters_ID\"]}')\n",
    "if parameters[\"load_previous_instance\"]:\n",
    "    protocol = utils.load_obj(last_instance_path)\n",
    "else:\n",
    "    protocol = protocols.Protocols(parameters, parameters[\"Parameters_ID\"])\n"
   ]
  },
  {
   "cell_type": "code",
   "execution_count": null,
   "metadata": {},
   "outputs": [],
   "source": [
    "script_sequence = parameters['Protocols_test']\n",
    "print(script_sequence)"
   ]
  },
  {
   "cell_type": "code",
   "execution_count": null,
   "metadata": {},
   "outputs": [],
   "source": [
    "perform_this = getattr(protocol, 'Input')\n",
    "perform_this()"
   ]
  },
  {
   "cell_type": "code",
   "execution_count": null,
   "metadata": {},
   "outputs": [],
   "source": [
    "perform_this = getattr(protocol, 'Clean_frame')\n",
    "perform_this()"
   ]
  },
  {
   "cell_type": "code",
   "execution_count": null,
   "metadata": {},
   "outputs": [],
   "source": [
    "parameters['Vectorizations']['vect_method_parameters'] = {'persistence_image': {\n",
    "                                                          \"rescale_lims\": False,\n",
    "                                                          \"xlims\" : None,\n",
    "                                                          \"ylims\" : None,\n",
    "                                                          \"bw_method\" : None,\n",
    "                                                          \"barcode_weight\" : None,\n",
    "                                                          \"norm_method\" : \"sum\",\n",
    "                                                          \"resolution\" : 4,\n",
    "                                                          \"parallel\":False\n",
    "                                                                                },\n",
    "\n",
    "                                                        }"
   ]
  },
  {
   "cell_type": "code",
   "execution_count": null,
   "metadata": {},
   "outputs": [],
   "source": [
    "perform_this = getattr(protocol, 'Vectorizations')\n",
    "perform_this()"
   ]
  },
  {
   "cell_type": "code",
   "execution_count": null,
   "metadata": {},
   "outputs": [],
   "source": [
    "perform_this = getattr(protocol, 'Bootstrap')\n",
    "perform_this()"
   ]
  },
  {
   "cell_type": "code",
   "execution_count": null,
   "metadata": {},
   "outputs": [],
   "source": [
    "parameters['Dim_reductions']['vectors_to_reduce'] = 'pi'\n",
    "perform_this = getattr(protocol, 'Dim_reductions')\n",
    "perform_this()"
   ]
  },
  {
   "cell_type": "code",
   "execution_count": null,
   "metadata": {},
   "outputs": [],
   "source": [
    "perform_this = getattr(protocol, 'Save_reduced')\n",
    "perform_this()"
   ]
  },
  {
   "cell_type": "code",
   "execution_count": null,
   "metadata": {},
   "outputs": [],
   "source": [
    "protocol.morphoframe['tmd_test']"
   ]
  },
  {
   "cell_type": "code",
   "execution_count": null,
   "metadata": {},
   "outputs": [],
   "source": [
    "protocol.morphoframe['bootstrap_frame']"
   ]
  },
  {
   "cell_type": "code",
   "execution_count": null,
   "metadata": {},
   "outputs": [],
   "source": [
    "protocol.metadata['bootstrap_info']"
   ]
  },
  {
   "cell_type": "code",
   "execution_count": null,
   "metadata": {},
   "outputs": [],
   "source": [
    "protocol.parameters['Plotting']={\"ReductionInfo_filepath\" : [\"infer\",],\n",
    "\n",
    "                                \"morphoframe_name\" : \"tmd_test\",\n",
    "                                \"coordinate_key\" : \"pca_umap\",\n",
    "                                \"label_conditions\" : [\"Region\", \"Model\", \"Sex\",],\n",
    "\n",
    "                                #\"morphoinfo_key\" : \"tmd_info\",\n",
    "                                \n",
    "                                \"coordinate_filepath\" : [], \n",
    "                                \"morphoInfo_filepath\" : [],\n",
    "                                \"colormap_filepath\" : [\n",
    "                                    \"examples/Parameter_files/colormap.1.csv\",],\n",
    "                                \"label_prefixes\" : [\"Sample\"],\n",
    "                                \n",
    "\n",
    "\n",
    "                                \"Substitutions\" : [],\n",
    "\n",
    "                                \"show_plot\" : True,\n",
    "                                \"coordinate_axisnames\" : \"UMAP\",\n",
    "                                \"save_data\" : True,\n",
    "                                \"save_folderpath\" : \"examples/trial_folder/plot\",\n",
    "                                \"save_filename\" : 0\n",
    "                                }\n",
    "perform_this = getattr(protocol, 'Plotting')\n",
    "perform_this()"
   ]
  },
  {
   "cell_type": "code",
   "execution_count": null,
   "metadata": {},
   "outputs": [],
   "source": [
    "perform_this = getattr(protocol, 'Mapping')\n",
    "perform_this()"
   ]
  },
  {
   "cell_type": "code",
   "execution_count": null,
   "metadata": {},
   "outputs": [],
   "source": [
    "protocol.morphoframe"
   ]
  },
  {
   "cell_type": "code",
   "execution_count": null,
   "metadata": {},
   "outputs": [],
   "source": [
    "protocol.metadata"
   ]
  },
  {
   "cell_type": "code",
   "execution_count": null,
   "metadata": {},
   "outputs": [],
   "source": [
    "script_sequence = parameters[\"Protocols\"]\n",
    "for sequence in script_sequence:\n",
    "    print(\"Doing %s...\"%sequence)\n",
    "    perform_this = getattr(protocol, sequence)\n",
    "    perform_this()\n",
    "if parameters[\"save_last_instance\"]:\n",
    "    utils.save_obj(protocol, last_instance_path)"
   ]
  }
 ],
 "metadata": {
  "kernelspec": {
   "display_name": "venv",
   "language": "python",
   "name": "python3"
  },
  "language_info": {
   "codemirror_mode": {
    "name": "ipython",
    "version": 3
   },
   "file_extension": ".py",
   "mimetype": "text/x-python",
   "name": "python",
   "nbconvert_exporter": "python",
   "pygments_lexer": "ipython3",
   "version": "3.9.19"
  }
 },
 "nbformat": 4,
 "nbformat_minor": 2
}
