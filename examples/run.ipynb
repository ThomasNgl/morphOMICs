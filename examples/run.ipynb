{
 "cells": [
  {
   "cell_type": "code",
   "execution_count": 1,
   "metadata": {},
   "outputs": [
    {
     "name": "stdout",
     "output_type": "stream",
     "text": [
      "Unless you have specified the file prefix in the succeeding executables, \n",
      "this will be the file prefix: Morphomics.PID_Brain_test\n",
      "Doing Input...\n",
      "Loading the data from ./data\n",
      "Saving dataset in examples/saved_instances/Morphomics.PID_Brain_test.TMD-radial_distances\n"
     ]
    },
    {
     "ename": "AttributeError",
     "evalue": "module 'morphomics' has no attribute 'io'",
     "output_type": "error",
     "traceback": [
      "\u001b[0;31m---------------------------------------------------------------------------\u001b[0m",
      "\u001b[0;31mAttributeError\u001b[0m                            Traceback (most recent call last)",
      "Cell \u001b[0;32mIn[1], line 24\u001b[0m\n\u001b[1;32m     22\u001b[0m \u001b[38;5;28mprint\u001b[39m(\u001b[38;5;124m\"\u001b[39m\u001b[38;5;124mDoing \u001b[39m\u001b[38;5;132;01m%s\u001b[39;00m\u001b[38;5;124m...\u001b[39m\u001b[38;5;124m\"\u001b[39m\u001b[38;5;241m%\u001b[39msequence)\n\u001b[1;32m     23\u001b[0m perform_this \u001b[38;5;241m=\u001b[39m \u001b[38;5;28mgetattr\u001b[39m(protocol, sequence)\n\u001b[0;32m---> 24\u001b[0m \u001b[43mperform_this\u001b[49m\u001b[43m(\u001b[49m\u001b[43m)\u001b[49m\n\u001b[1;32m     25\u001b[0m \u001b[38;5;28;01mif\u001b[39;00m parameters[\u001b[38;5;124m\"\u001b[39m\u001b[38;5;124msave_last_instance\u001b[39m\u001b[38;5;124m\"\u001b[39m]:\n\u001b[1;32m     26\u001b[0m     utils\u001b[38;5;241m.\u001b[39msave_obj(protocol, last_instance_path)\n",
      "File \u001b[0;32m~/Desktop/morphOMICs/morphomics/protocols.py:96\u001b[0m, in \u001b[0;36mProtocols.Input\u001b[0;34m(self)\u001b[0m\n\u001b[1;32m     93\u001b[0m \u001b[38;5;28mprint\u001b[39m(\u001b[38;5;124m\"\u001b[39m\u001b[38;5;124mSaving dataset in \u001b[39m\u001b[38;5;132;01m%s\u001b[39;00m\u001b[38;5;124m\"\u001b[39m\u001b[38;5;241m%\u001b[39m(save_filename))\n\u001b[1;32m     95\u001b[0m \u001b[38;5;66;03m# load the data\u001b[39;00m\n\u001b[0;32m---> 96\u001b[0m \u001b[38;5;28mself\u001b[39m\u001b[38;5;241m.\u001b[39mmorphoframe[params[\u001b[38;5;124m\"\u001b[39m\u001b[38;5;124mmorphoframe_name\u001b[39m\u001b[38;5;124m\"\u001b[39m]] \u001b[38;5;241m=\u001b[39m \u001b[43mmorphomics\u001b[49m\u001b[38;5;241;43m.\u001b[39;49m\u001b[43mio\u001b[49m\u001b[38;5;241m.\u001b[39mload_data(\n\u001b[1;32m     97\u001b[0m     folder_location\u001b[38;5;241m=\u001b[39mparams[\u001b[38;5;124m\"\u001b[39m\u001b[38;5;124mdata_location_filepath\u001b[39m\u001b[38;5;124m\"\u001b[39m],\n\u001b[1;32m     98\u001b[0m     extension\u001b[38;5;241m=\u001b[39mparams[\u001b[38;5;124m\"\u001b[39m\u001b[38;5;124mextension\u001b[39m\u001b[38;5;124m\"\u001b[39m],\n\u001b[1;32m     99\u001b[0m     barcode_filter\u001b[38;5;241m=\u001b[39mparams[\u001b[38;5;124m\"\u001b[39m\u001b[38;5;124mbarcode_filter\u001b[39m\u001b[38;5;124m\"\u001b[39m],\n\u001b[1;32m    100\u001b[0m     save_filename\u001b[38;5;241m=\u001b[39msave_filename,\n\u001b[1;32m    101\u001b[0m     conditions\u001b[38;5;241m=\u001b[39mparams[\u001b[38;5;124m\"\u001b[39m\u001b[38;5;124mconditions\u001b[39m\u001b[38;5;124m\"\u001b[39m],\n\u001b[1;32m    102\u001b[0m     separated_by\u001b[38;5;241m=\u001b[39mparams[\u001b[38;5;124m\"\u001b[39m\u001b[38;5;124mseparated_by\u001b[39m\u001b[38;5;124m\"\u001b[39m],\n\u001b[1;32m    103\u001b[0m )\n\u001b[1;32m    105\u001b[0m \u001b[38;5;28mprint\u001b[39m(\u001b[38;5;124m\"\u001b[39m\u001b[38;5;124mInput done!\u001b[39m\u001b[38;5;124m\"\u001b[39m)\n",
      "\u001b[0;31mAttributeError\u001b[0m: module 'morphomics' has no attribute 'io'"
     ]
    }
   ],
   "source": [
    "import os\n",
    "# Set a new working directory\n",
    "new_path = '../'\n",
    "os.chdir(new_path)\n",
    "\n",
    "from morphomics import protocols, utils\n",
    "import tomli\n",
    "\n",
    "parameters_filepath = \"examples/Parameter_files/Morphomics.Parameters.toml\"\n",
    "\n",
    "with open(parameters_filepath, mode=\"rb\") as _parameter_file:\n",
    "    parameters = tomli.load(_parameter_file)\n",
    "\n",
    "last_instance_path = os.path.join(parameters[\"path_to_last_instance\"], f'last_instance_{parameters[\"Parameters_ID\"]}')\n",
    "if parameters[\"load_previous_instance\"]:\n",
    "    protocol = utils.load_obj(last_instance_path)\n",
    "else:\n",
    "    protocol = protocols.Protocols(parameters, parameters[\"Parameters_ID\"])\n",
    "\n",
    "script_sequence = parameters[\"Protocols\"]\n",
    "for sequence in script_sequence:\n",
    "    print(\"Doing %s...\"%sequence)\n",
    "    perform_this = getattr(protocol, sequence)\n",
    "    perform_this()\n",
    "    if parameters[\"save_last_instance\"]:\n",
    "        utils.save_obj(protocol, last_instance_path)"
   ]
  }
 ],
 "metadata": {
  "kernelspec": {
   "display_name": "venv",
   "language": "python",
   "name": "python3"
  },
  "language_info": {
   "codemirror_mode": {
    "name": "ipython",
    "version": 3
   },
   "file_extension": ".py",
   "mimetype": "text/x-python",
   "name": "python",
   "nbconvert_exporter": "python",
   "pygments_lexer": "ipython3",
   "version": "3.9.19"
  }
 },
 "nbformat": 4,
 "nbformat_minor": 2
}
