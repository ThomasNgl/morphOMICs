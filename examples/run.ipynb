{
 "cells": [
  {
   "cell_type": "code",
   "execution_count": 15,
   "metadata": {},
   "outputs": [
    {
     "name": "stdout",
     "output_type": "stream",
     "text": [
      "Doing Plotting...\n",
      "Creating the interactive plot...\n",
      "The following file was not found: infer\n",
      "Inferring the morpho_infoframe and manifold coordinates from Protocol class.\n",
      "{'ReductionInfo_filepath': ['infer'], 'coordinate_axisnames': 'UMAP', 'coordinate_key': 'X_umap', 'morphoinfo_key': 'bootstrap_info', 'Coordinate_filepath': [], 'MorphoInfo_filepath': [], 'colormap_filepath': ['Parameter_files/colormap.1.csv'], 'label_prefixes': ['Sample'], 'Substitutions': [], 'show_plot': True, 'save_data': True, 'save_folder': 'saved_instances', 'file_prefix': 'Brain'}\n",
      "No substitutions for coordinate set 1...\n"
     ]
    },
    {
     "data": {
      "application/vnd.jupyter.widget-view+json": {
       "model_id": "d721f96f3a6b4afa8577c13c4d04e6ba",
       "version_major": 2,
       "version_minor": 0
      },
      "text/plain": [
       "Container(figure=Figure(box_center=[0.5, 0.5, 0.5], box_size=[1.0, 1.0, 1.0], camera=PerspectiveCamera(fov=45.…"
      ]
     },
     "metadata": {},
     "output_type": "display_data"
    }
   ],
   "source": [
    "from morphomics import protocols, utils\n",
    "import tomli\n",
    "import os\n",
    "\n",
    "parameters_filepath = \"Parameter_files/Morphomics.Parameters.toml\"\n",
    "\n",
    "with open(parameters_filepath, mode=\"rb\") as _parameter_file:\n",
    "    parameters = tomli.load(_parameter_file)\n",
    "\n",
    "last_instance_path = os.path.join(parameters[\"path_to_last_instance\"], f'last_instance_{parameters[\"Parameters_ID\"]}')\n",
    "if parameters[\"load_previous_instance\"]:\n",
    "    protocol = utils.load_obj(last_instance_path)\n",
    "else:\n",
    "    protocol = protocols.Protocols(parameters, parameters[\"Parameters_ID\"])\n",
    "\n",
    "script_sequence = parameters[\"Protocols\"]\n",
    "for sequence in script_sequence:\n",
    "    print(\"Doing %s...\"%sequence)\n",
    "    perform_this = getattr(protocol, sequence)\n",
    "    perform_this()\n",
    "    if parameters[\"save_last_instance\"]:\n",
    "        utils.save_obj(protocol, last_instance_path)"
   ]
  }
 ],
 "metadata": {
  "kernelspec": {
   "display_name": "venv",
   "language": "python",
   "name": "python3"
  },
  "language_info": {
   "codemirror_mode": {
    "name": "ipython",
    "version": 3
   },
   "file_extension": ".py",
   "mimetype": "text/x-python",
   "name": "python",
   "nbconvert_exporter": "python",
   "pygments_lexer": "ipython3",
   "version": "3.9.2"
  }
 },
 "nbformat": 4,
 "nbformat_minor": 2
}
