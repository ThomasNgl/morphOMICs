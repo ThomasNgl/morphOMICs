{
 "cells": [
  {
   "cell_type": "code",
   "execution_count": null,
   "metadata": {},
   "outputs": [],
   "source": [
    "from morphomics import protocols, utils\n",
    "import tomli\n",
    "import os\n",
    "\n",
    "parameters_filepath = \"Parameter_files/Morphomics.Parameters.toml\"\n",
    "\n",
    "with open(parameters_filepath, mode=\"rb\") as _parameter_file:\n",
    "    parameters = tomli.load(_parameter_file)\n",
    "\n",
    "last_instance_path = os.path.join(parameters[\"path_to_last_instance\"], f'last_instance_{parameters[\"Parameters_ID\"]}')\n",
    "if parameters[\"load_previous_instance\"]:\n",
    "    protocol = utils.load_obj(last_instance_path)\n",
    "else:\n",
    "    protocol = protocols.Protocols(parameters, parameters[\"Parameters_ID\"])\n",
    "\n",
    "script_sequence = parameters[\"Protocols\"]\n",
    "for sequence in script_sequence:\n",
    "    print(\"Doing %s...\"%sequence)\n",
    "    perform_this = getattr(protocol, sequence)\n",
    "    perform_this()\n",
    "    if parameters[\"save_last_instance\"]:\n",
    "        utils.save_obj(protocol, last_instance_path)"
   ]
  }
 ],
 "metadata": {
  "kernelspec": {
   "display_name": "venv",
   "language": "python",
   "name": "python3"
  },
  "language_info": {
   "codemirror_mode": {
    "name": "ipython",
    "version": 3
   },
   "file_extension": ".py",
   "mimetype": "text/x-python",
   "name": "python",
   "nbconvert_exporter": "python",
   "pygments_lexer": "ipython3",
   "version": "3.9.19"
  }
 },
 "nbformat": 4,
 "nbformat_minor": 2
}
