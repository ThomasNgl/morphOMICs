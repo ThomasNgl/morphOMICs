{
 "cells": [
  {
   "cell_type": "code",
   "execution_count": 1,
   "metadata": {},
   "outputs": [
    {
     "name": "stdout",
     "output_type": "stream",
     "text": [
      "Doing Plotting...\n",
      "Creating the interactive plot...\n",
      "The following file was not found: infer\n",
      "Inferring the morpho_infoframe and manifold coordinates from Protocol class.\n",
      "No substitutions for coordinate set 1...\n"
     ]
    },
    {
     "data": {
      "application/vnd.jupyter.widget-view+json": {
       "model_id": "a7f9871a8215418a8c1ce5ebe051c842",
       "version_major": 2,
       "version_minor": 0
      },
      "text/plain": [
       "Container(figure=Figure(box_center=[0.5, 0.5, 0.5], box_size=[1.0, 1.0, 1.0], camera=PerspectiveCamera(fov=45.…"
      ]
     },
     "metadata": {},
     "output_type": "display_data"
    }
   ],
   "source": [
    "from morphomics import protocols, utils\n",
    "import tomli\n",
    "import sys\n",
    "\n",
    "parameters_filepath = \"Parameter_files/Morphomics.Parameters.1.toml\"\n",
    "Parameters_ID = int(parameters_filepath.split('/')[-1].split('.')[-2])\n",
    "\n",
    "with open(parameters_filepath, mode=\"rb\") as _parameter_file:\n",
    "    parameters = tomli.load(_parameter_file)\n",
    "parameters[\"Parameters_ID\"] = Parameters_ID\n",
    "\n",
    "if parameters[\"load_previous_instance\"]:\n",
    "    protocol = utils.load_obj(\"%s/last_instance_%d\"%(parameters[\"path_to_last_instance\"], parameters[\"Parameters_ID\"]))\n",
    "else:\n",
    "    protocol = protocols.Protocols(parameters, Parameters_ID)\n",
    "\n",
    "script_sequence = parameters[\"Protocols\"]\n",
    "for sequence in script_sequence:\n",
    "    print(\"Doing %s...\"%sequence)\n",
    "    perform_this = getattr(protocol, sequence)\n",
    "    perform_this()\n",
    "    if parameters[\"save_last_instance\"]:\n",
    "        utils.save_obj(protocol, \"%s/last_instance_%d\"%(parameters[\"path_to_last_instance\"], parameters[\"Parameters_ID\"]))"
   ]
  }
 ],
 "metadata": {
  "kernelspec": {
   "display_name": "venv",
   "language": "python",
   "name": "python3"
  },
  "language_info": {
   "codemirror_mode": {
    "name": "ipython",
    "version": 3
   },
   "file_extension": ".py",
   "mimetype": "text/x-python",
   "name": "python",
   "nbconvert_exporter": "python",
   "pygments_lexer": "ipython3",
   "version": "3.9.2"
  }
 },
 "nbformat": 4,
 "nbformat_minor": 2
}
