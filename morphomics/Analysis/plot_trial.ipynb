{
 "cells": [
  {
   "cell_type": "code",
   "execution_count": 3,
   "metadata": {},
   "outputs": [],
   "source": [
    "import colorsys\n",
    "import plotly.express as px\n",
    "import plotly.graph_objects as go\n",
    "import numpy as np\n",
    "\n",
    "def darken_lighten_color(color, amount=0.5):\n",
    "    try:\n",
    "        c = np.array(px.colors.hex_to_rgb(color)) / 255.0\n",
    "        c = colorsys.rgb_to_hls(*c)\n",
    "        l_c = colorsys.hls_to_rgb(c[0], 1 - amount * (1 - c[1]), c[2])\n",
    "        d_c = colorsys.hls_to_rgb(c[0], amount * c[1], c[2])\n",
    "        l_c = f'rgb({int(l_c[0]*255)}, {int(l_c[1]*255)}, {int(l_c[2]*255)})'\n",
    "        d_c = f'rgb({int(d_c[0]*255)}, {int(d_c[1]*255)}, {int(d_c[2]*255)})'\n",
    "        return l_c, d_c\n",
    "    except ValueError:\n",
    "        raise ValueError(f\"Cannot lighten color {color}\")\n",
    "\n",
    "\n",
    "base_color = '#1f77b4'  # Example base color (blue)\n",
    "# Create a custom color scale\n",
    "light_color, dark_color = darken_lighten_color(base_color)\n",
    "custom_colors = [dark_color, base_color, light_color]\n"
   ]
  },
  {
   "cell_type": "code",
   "execution_count": 4,
   "metadata": {},
   "outputs": [
    {
     "data": {
      "text/plain": [
       "['rgb(15, 59, 89)', '#1f77b4', 'rgb(127, 189, 233)']"
      ]
     },
     "execution_count": 4,
     "metadata": {},
     "output_type": "execute_result"
    }
   ],
   "source": [
    "custom_colors"
   ]
  }
 ],
 "metadata": {
  "kernelspec": {
   "display_name": "morphomics",
   "language": "python",
   "name": "python3"
  },
  "language_info": {
   "codemirror_mode": {
    "name": "ipython",
    "version": 3
   },
   "file_extension": ".py",
   "mimetype": "text/x-python",
   "name": "python",
   "nbconvert_exporter": "python",
   "pygments_lexer": "ipython3",
   "version": "3.9.19"
  }
 },
 "nbformat": 4,
 "nbformat_minor": 2
}
