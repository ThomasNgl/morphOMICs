{
 "cells": [
  {
   "cell_type": "code",
   "execution_count": 1,
   "metadata": {},
   "outputs": [],
   "source": [
    "%load_ext autoreload\n",
    "%autoreload 2"
   ]
  },
  {
   "cell_type": "code",
   "execution_count": 2,
   "metadata": {},
   "outputs": [],
   "source": [
    "import os\n",
    "# Set a new working directory\n",
    "new_path = '../'\n",
    "os.chdir(new_path)\n",
    "# pip install -e .\n",
    "# from morphomics \n"
   ]
  },
  {
   "cell_type": "code",
   "execution_count": 3,
   "metadata": {},
   "outputs": [
    {
     "name": "stdout",
     "output_type": "stream",
     "text": [
      "This will be the file prefix: Morphomics.PID_subsampler\n",
      "\n"
     ]
    }
   ],
   "source": [
    "from morphomics import pipeline\n",
    "params = {}\n",
    "params['Input'] = {'data_location_filepath': \"test_subsampler\",\n",
    "                   'extension': 'corrected.swc',\n",
    "                   'conditions': ['Region', 'Model', 'Sex', 'Animal'],\n",
    "                   'separated_by': None,\n",
    "                   'morphoframe_name': 'sub',\n",
    "                   'save_data': False,\n",
    "                   'save_folderpath': 0,\n",
    "                   'save_filename': 0}\n",
    "\n",
    "my_pip = pipeline.Pipeline(parameters = params, Parameters_ID='subsampler')"
   ]
  },
  {
   "cell_type": "code",
   "execution_count": 4,
   "metadata": {},
   "outputs": [
    {
     "name": "stdout",
     "output_type": "stream",
     "text": [
      "Loading the data from test_subsampler\n",
      "You are now collecting the 3D reconstructions (.swc files) from this folder: \n",
      "test_subsampler\n",
      "\n",
      "Found 1182 files...\n",
      "Sample filenames:\n",
      "test_subsampler/S1/2xKXA/F/BL6_2xKXA_F_WFA488_IBA568_CD68647_S1_3/Filament_001_Filaments_1_Trace_0010_nl_corrected.swc\n",
      "test_subsampler/S1/2xKXA/F/BL6_2xKXA_F_WFA488_IBA568_CD68647_S1_3/Filament_001_Filaments_1_Trace_0031_nl_corrected.swc\n",
      "test_subsampler/S1/2xKXA/F/BL6_2xKXA_F_WFA488_IBA568_CD68647_S1_3/Filament_001_Filaments_1_Trace_0025_nl_corrected.swc\n",
      "test_subsampler/S1/2xKXA/F/BL6_2xKXA_F_WFA488_IBA568_CD68647_S1_3/Filament_001_Filaments_1_Trace_0004_nl_corrected.swc\n",
      "test_subsampler/S1/2xKXA/F/BL6_2xKXA_F_WFA488_IBA568_CD68647_S1_3/Filament_001_Filaments_1_Trace_0000_nl_corrected.swc\n",
      " \n"
     ]
    },
    {
     "name": "stderr",
     "output_type": "stream",
     "text": [
      "/Users/thomasnegrello/anaconda3/envs/morphomics/lib/python3.11/site-packages/numpy/core/fromnumeric.py:59: FutureWarning: 'DataFrame.swapaxes' is deprecated and will be removed in a future version. Please use 'DataFrame.transpose' instead.\n",
      "  return bound(*args, **kwds)\n"
     ]
    },
    {
     "name": "stdout",
     "output_type": "stream",
     "text": [
      "You have loaded 25% chunk of the data...\n",
      "You have loaded 50% chunk of the data...\n",
      "You have loaded 75% chunk of the data...\n",
      "You have loaded 100% chunk of the data...\n",
      " \n",
      "...finished loading morphologies...\n",
      " \n",
      "! Warning: You have 3 .swc files that did not load. Potentially, empty files. Please check *-FailedFiles\n",
      "Input done!\n",
      "\n"
     ]
    }
   ],
   "source": [
    "my_pip.Input()"
   ]
  },
  {
   "cell_type": "code",
   "execution_count": 5,
   "metadata": {},
   "outputs": [],
   "source": [
    "params['TMD'] = {'morphoframe_filepath': False,\n",
    "                   'filtration_function': 'radial_distance',\n",
    "                   'exclude_sg_branches': False,\n",
    "                   'morphoframe_name': 'sub',\n",
    "                   'save_data': False,\n",
    "                   'save_folderpath': 0,\n",
    "                   'save_filename': 0}"
   ]
  },
  {
   "cell_type": "code",
   "execution_count": 6,
   "metadata": {},
   "outputs": [
    {
     "name": "stdout",
     "output_type": "stream",
     "text": [
      "Computing the TMD on morphoframe sub\n",
      "...finished computing barcodes...\n",
      "TMD done!\n",
      "\n"
     ]
    }
   ],
   "source": [
    "my_pip.TMD()"
   ]
  },
  {
   "cell_type": "code",
   "execution_count": 7,
   "metadata": {},
   "outputs": [],
   "source": [
    "mf = my_pip.morphoframe['sub']"
   ]
  },
  {
   "cell_type": "code",
   "execution_count": 8,
   "metadata": {},
   "outputs": [
    {
     "data": {
      "text/plain": [
       "1179"
      ]
     },
     "execution_count": 8,
     "metadata": {},
     "output_type": "execute_result"
    }
   ],
   "source": [
    "len(mf)"
   ]
  },
  {
   "cell_type": "code",
   "execution_count": 9,
   "metadata": {},
   "outputs": [],
   "source": [
    "samples = mf.iloc[0:2]"
   ]
  },
  {
   "cell_type": "code",
   "execution_count": 10,
   "metadata": {},
   "outputs": [],
   "source": [
    "barcode = samples.iloc[0].barcodes"
   ]
  },
  {
   "cell_type": "code",
   "execution_count": 11,
   "metadata": {},
   "outputs": [],
   "source": [
    "neu = samples['cells'].iloc[0]"
   ]
  },
  {
   "cell_type": "code",
   "execution_count": 12,
   "metadata": {},
   "outputs": [],
   "source": [
    "tree1 = neu.neurites[0]"
   ]
  },
  {
   "cell_type": "code",
   "execution_count": 13,
   "metadata": {},
   "outputs": [
    {
     "data": {
      "text/plain": [
       "({7: 0,\n",
       "  13: 7,\n",
       "  74: 13,\n",
       "  167: 74,\n",
       "  187: 167,\n",
       "  210: 187,\n",
       "  230: 187,\n",
       "  232: 230,\n",
       "  257: 232,\n",
       "  275: 232,\n",
       "  291: 230,\n",
       "  308: 167,\n",
       "  321: 74,\n",
       "  359: 13,\n",
       "  420: 359,\n",
       "  439: 420,\n",
       "  455: 439,\n",
       "  473: 439,\n",
       "  485: 420,\n",
       "  528: 359,\n",
       "  552: 528,\n",
       "  561: 528,\n",
       "  585: 7,\n",
       "  597: 585,\n",
       "  623: 597,\n",
       "  648: 623,\n",
       "  690: 648,\n",
       "  697: 690,\n",
       "  731: 697,\n",
       "  752: 697,\n",
       "  770: 690,\n",
       "  784: 648,\n",
       "  818: 784,\n",
       "  831: 818,\n",
       "  841: 818,\n",
       "  852: 784,\n",
       "  867: 623,\n",
       "  881: 597,\n",
       "  931: 881,\n",
       "  942: 931,\n",
       "  977: 942,\n",
       "  979: 942,\n",
       "  982: 979,\n",
       "  1004: 982,\n",
       "  1020: 982,\n",
       "  1037: 979,\n",
       "  1050: 931,\n",
       "  1065: 881,\n",
       "  1102: 585,\n",
       "  1110: 1102,\n",
       "  1162: 1110,\n",
       "  1186: 1110,\n",
       "  1194: 1110,\n",
       "  1216: 1102,\n",
       "  0: -1},\n",
       " {0: array([7]),\n",
       "  7: array([ 13, 585]),\n",
       "  13: array([ 74, 359]),\n",
       "  74: array([167, 321]),\n",
       "  167: array([187, 308]),\n",
       "  187: array([210, 230]),\n",
       "  230: array([232, 291]),\n",
       "  232: array([257, 275]),\n",
       "  359: array([420, 528]),\n",
       "  420: array([439, 485]),\n",
       "  439: array([455, 473]),\n",
       "  528: array([552, 561]),\n",
       "  585: array([ 597, 1102]),\n",
       "  597: array([623, 881]),\n",
       "  623: array([648, 867]),\n",
       "  648: array([690, 784]),\n",
       "  690: array([697, 770]),\n",
       "  697: array([731, 752]),\n",
       "  784: array([818, 852]),\n",
       "  818: array([831, 841]),\n",
       "  881: array([ 931, 1065]),\n",
       "  931: array([ 942, 1050]),\n",
       "  942: array([977, 979]),\n",
       "  979: array([ 982, 1037]),\n",
       "  982: array([1004, 1020]),\n",
       "  1102: array([1110, 1216]),\n",
       "  1110: array([1162, 1186, 1194])})"
      ]
     },
     "execution_count": 13,
     "metadata": {},
     "output_type": "execute_result"
    }
   ],
   "source": [
    "tree1.parents_children()"
   ]
  },
  {
   "cell_type": "code",
   "execution_count": 14,
   "metadata": {},
   "outputs": [],
   "source": [
    "from scipy.stats import geom\n",
    "import numpy as np\n",
    "from morphomics.cells.tree.tree import Tree\n",
    "\n",
    "# def cut_branches(tree, degree = 1):\n",
    "#     tip_starts = tree.get_terminations()\n",
    "#     subsampled_nodes = set()\n",
    "#     for leaf in tip_starts:\n",
    "#         subsampled_nodes.update(way)\n",
    "#     subsampled_nodes.discard(-1)\n",
    "#     subsampled_nodes = list(subsampled_nodes)\n",
    "\n",
    "#     new_x = tree.x[subsampled_nodes]\n",
    "#     new_y = tree.y[subsampled_nodes]\n",
    "#     new_z = tree.z[subsampled_nodes]\n",
    "#     new_d = tree.d[subsampled_nodes]\n",
    "#     new_t = tree.t[subsampled_nodes]\n",
    "#     new_p = tree.p[subsampled_nodes]\n",
    "\n",
    "#     # Step 1: Create a mapping of numbers to their indices in subsampled_nodes\n",
    "#     index_map = {value: index for index, value in enumerate(subsampled_nodes)}\n",
    "#     index_map[-1] = -1\n",
    "#     # Step 2: Replace each number in list p with its index from subsampled_nodes\n",
    "#     new_p = [index_map[number] for number in new_p]\n",
    "#     new_tree = Tree(new_x, new_y, new_z, new_d, new_t, new_p)\n",
    "#     return new_tree"
   ]
  },
  {
   "cell_type": "code",
   "execution_count": 15,
   "metadata": {},
   "outputs": [],
   "source": [
    "from scipy.stats import geom\n",
    "import numpy as np\n",
    "from morphomics.cells.tree.tree import Tree\n",
    "\n",
    "def subsample_tree(tree, nb_nodes = 0.9):\n",
    "    tip_starts = tree.get_terminations()\n",
    "    subsampled_nodes = set()\n",
    "    for start in tip_starts:\n",
    "        way = tree.get_way_to_root(sec_id=start)\n",
    "        way = way[::-1]\n",
    "        way.append(start)\n",
    "        if isinstance(nb_nodes, int):\n",
    "            cut = nb_nodes\n",
    "        else:\n",
    "            cut = geom.rvs(p=1-nb_nodes) - 1\n",
    "        if cut > 0:\n",
    "            way = way[:-cut]\n",
    "        subsampled_nodes.update(way)\n",
    "    subsampled_nodes.discard(-1)\n",
    "    subsampled_nodes = list(subsampled_nodes)\n",
    "\n",
    "    new_x = tree.x[subsampled_nodes]\n",
    "    new_y = tree.y[subsampled_nodes]\n",
    "    new_z = tree.z[subsampled_nodes]\n",
    "    new_d = tree.d[subsampled_nodes]\n",
    "    new_t = tree.t[subsampled_nodes]\n",
    "    new_p = tree.p[subsampled_nodes]\n",
    "\n",
    "    # Step 1: Create a mapping of numbers to their indices in subsampled_nodes\n",
    "    index_map = {value: index for index, value in enumerate(subsampled_nodes)}\n",
    "    index_map[-1] = -1\n",
    "    # Step 2: Replace each number in list p with its index from subsampled_nodes\n",
    "    new_p = [index_map[number] for number in new_p]\n",
    "    new_tree = Tree(new_x, new_y, new_z, new_d, new_t, new_p)\n",
    "    return new_tree"
   ]
  },
  {
   "cell_type": "code",
   "execution_count": 16,
   "metadata": {},
   "outputs": [],
   "source": [
    "def prune_branch(tree, leaf, nb_nodes):\n",
    "    way = tree.get_way_to_root(sec_id=leaf)\n",
    "    way = way[::-1]\n",
    "    way.append(leaf)\n",
    "    if isinstance(nb_nodes, int):\n",
    "        cut = nb_nodes\n",
    "    else:\n",
    "        cut = geom.rvs(p=1-nb_nodes) - 1\n",
    "    if cut > 0:\n",
    "        way = way[:-cut]\n",
    "    return way\n",
    "\n",
    "def cut_branch(tree, leaf, degree):\n",
    "    child_parent_map = tree.parents_children()[0]\n",
    "    parent_degree = leaf\n",
    "    for _ in range(degree):\n",
    "        parent_degree = child_parent_map[parent_degree]\n",
    "    way = tree.get_way_to_root(sec_id = parent_degree)\n",
    "    way = way[::-1]\n",
    "    way.append(parent_degree)\n",
    "    return way\n",
    "\n",
    "def subsample_tree(tree, type):\n",
    "    tip_starts = tree.get_terminations()\n",
    "    subsampled_nodes = set()\n",
    "    for leaf in tip_starts:\n",
    "        if type[0] == 'cut':\n",
    "            way = cut_branch(tree, leaf, type[1])\n",
    "        elif type[0] == 'prune':\n",
    "            way = prune_branch(tree, leaf, type[1])\n",
    "        subsampled_nodes.update(way)\n",
    "    subsampled_nodes.discard(-1)\n",
    "    subsampled_nodes = list(subsampled_nodes)\n",
    "\n",
    "    new_x = tree.x[subsampled_nodes]\n",
    "    new_y = tree.y[subsampled_nodes]\n",
    "    new_z = tree.z[subsampled_nodes]\n",
    "    new_d = tree.d[subsampled_nodes]\n",
    "    new_t = tree.t[subsampled_nodes]\n",
    "    new_p = tree.p[subsampled_nodes]\n",
    "\n",
    "    # Step 1: Create a mapping of numbers to their indices in subsampled_nodes\n",
    "    index_map = {value: index for index, value in enumerate(subsampled_nodes)}\n",
    "    index_map[-1] = -1\n",
    "    # Step 2: Replace each number in list p with its index from subsampled_nodes\n",
    "    new_p = [index_map[number] for number in new_p]\n",
    "    new_tree = Tree(new_x, new_y, new_z, new_d, new_t, new_p)\n",
    "    return new_tree"
   ]
  },
  {
   "cell_type": "code",
   "execution_count": 17,
   "metadata": {},
   "outputs": [],
   "source": [
    "def _get_default(variable, **kwargs):\n",
    "    \"\"\"Returns default variable or kwargs variable if it exists.\"\"\"\n",
    "    default = {\n",
    "        \"linewidth\": 1.2,\n",
    "        \"alpha\": 0.8,\n",
    "        \"treecolor\": None,\n",
    "        \"diameter\": True,\n",
    "        \"diameter_scale\": 1.0,\n",
    "        \"white_space\": 30.0,\n",
    "    }\n",
    "\n",
    "    return kwargs.get(variable, default[variable])"
   ]
  },
  {
   "cell_type": "code",
   "execution_count": 18,
   "metadata": {},
   "outputs": [],
   "source": [
    "from matplotlib.collections import LineCollection as _LC\n",
    "term_dict = {\"x\": 0, \"y\": 1, \"z\": 2}\n",
    "TREE_TYPE_DICT = {1: \"soma\", 2: \"axon\", 3: \"basal_dendrite\", 4: \"apical_dendrite\", 5: \"process\"}\n",
    "from morphomics.view import common as cm\n",
    "\n",
    "def tree(tr, plane=\"xy\", new_fig=True, subplot=False, hadd=0.0, vadd=0.0, **kwargs):\n",
    "    \"\"\"Generate a 2d figure of the tree.\n",
    "\n",
    "    Args:\n",
    "        tr (Tree): A Tree object.\n",
    "        plane (str): The plane to consider.\n",
    "        new_fig (bool): Create a new figure if set to `True`.\n",
    "        subplot (bool): Create a subplot if set to `True`.\n",
    "        hadd (float): X shift.\n",
    "        vadd (float): Y shift.\n",
    "    \"\"\"\n",
    "    if plane not in (\"xy\", \"yx\", \"xz\", \"zx\", \"yz\", \"zy\"):\n",
    "        raise ValueError(\"No such plane found! Please select one of: xy, xz, yx, yz, zx, zy.\")\n",
    "\n",
    "    # Initialization of matplotlib figure and axes.\n",
    "    fig, ax = cm.get_figure(new_fig=new_fig, subplot=subplot)\n",
    "\n",
    "    # Data needed for the viewer: x,y,z,r\n",
    "    bounding_box = tr.get_bounding_box()\n",
    "\n",
    "    def _seg_2d(seg, x_add=0.0, y_add=0.0):\n",
    "        \"\"\"2d coordinates required for the plotting of a segment.\"\"\"\n",
    "        horz = term_dict[plane[0]]\n",
    "        vert = term_dict[plane[1]]\n",
    "\n",
    "        horz1 = seg[0][horz] + x_add\n",
    "        horz2 = seg[1][horz] + x_add\n",
    "        vert1 = seg[0][vert] + y_add\n",
    "        vert2 = seg[1][vert] + y_add\n",
    "\n",
    "        return ((horz1, vert1), (horz2, vert2))\n",
    "\n",
    "    segs = [_seg_2d(seg, hadd, vadd) for seg in tr.get_edges_coords()]\n",
    "\n",
    "    linewidth = _get_default(\"linewidth\", **kwargs)\n",
    "\n",
    "    # Definition of the linewidth according to diameter, if diameter is True.\n",
    "\n",
    "    if _get_default(\"diameter\", **kwargs):\n",
    "        scale = _get_default(\"diameter_scale\", **kwargs)\n",
    "        linewidth = [d * scale for d in tr.d]\n",
    "\n",
    "    if tr.get_type() not in TREE_TYPE_DICT:\n",
    "        treecolor = \"black\"\n",
    "    else:\n",
    "        treecolor = cm.get_color(_get_default(\"treecolor\", **kwargs), TREE_TYPE_DICT[tr.get_type()])\n",
    "\n",
    "    # Plot the collection of lines.\n",
    "    collection = _LC(\n",
    "        segs, color=treecolor, linewidth=linewidth, alpha=_get_default(\"alpha\", **kwargs)\n",
    "    )\n",
    "\n",
    "    ax.add_collection(collection)\n",
    "\n",
    "    white_space = _get_default(\"white_space\", **kwargs)\n",
    "    all_kwargs = {\n",
    "        \"title\": \"Tree view\",\n",
    "        \"xlabel\": plane[0],\n",
    "        \"ylabel\": plane[1],\n",
    "        \"xlim\": [\n",
    "            bounding_box[0][term_dict[plane[0]]] - white_space,\n",
    "            bounding_box[1][term_dict[plane[0]]] + white_space,\n",
    "        ],\n",
    "        \"ylim\": [\n",
    "            bounding_box[0][term_dict[plane[1]]] - white_space,\n",
    "            bounding_box[1][term_dict[plane[1]]] + white_space,\n",
    "        ],\n",
    "    }\n",
    "    all_kwargs.update(kwargs)\n",
    "\n",
    "    return cm.plot_style(fig=fig, ax=ax, **all_kwargs)"
   ]
  },
  {
   "cell_type": "code",
   "execution_count": 19,
   "metadata": {},
   "outputs": [
    {
     "data": {
      "text/plain": [
       "(<Figure size 640x480 with 1 Axes>,\n",
       " <Axes: title={'center': 'Tree view'}, xlabel='x', ylabel='y'>)"
      ]
     },
     "execution_count": 19,
     "metadata": {},
     "output_type": "execute_result"
    },
    {
     "data": {
      "image/png": "[encoded data removed]",
      "text/plain": [
       "<Figure size 640x480 with 1 Axes>"
      ]
     },
     "metadata": {},
     "output_type": "display_data"
    }
   ],
   "source": [
    "tree(tr = tree1)"
   ]
  },
  {
   "cell_type": "code",
   "execution_count": 53,
   "metadata": {},
   "outputs": [
    {
     "data": {
      "text/plain": [
       "(<Figure size 640x480 with 1 Axes>,\n",
       " <Axes: title={'center': 'Tree view'}, xlabel='x', ylabel='y'>)"
      ]
     },
     "execution_count": 53,
     "metadata": {},
     "output_type": "execute_result"
    },
    {
     "data": {
      "image/png": "[encoded data removed]",
      "text/plain": [
       "<Figure size 640x480 with 1 Axes>"
      ]
     },
     "metadata": {},
     "output_type": "display_data"
    }
   ],
   "source": [
    "tree2 = subsample_tree(tree1, type=['cut', 3])\n",
    "tree(tr = tree2)"
   ]
  },
  {
   "cell_type": "code",
   "execution_count": null,
   "metadata": {},
   "outputs": [],
   "source": [
    "def get_way_to_root(tree, sec_id=0):\n",
    "    \"\"\"Return way to root.\"\"\"\n",
    "    way = []\n",
    "    tmp_id = sec_id\n",
    "\n",
    "    while tmp_id != -1:\n",
    "        way.append(tree.p[tmp_id])\n",
    "        tmp_id = tree.p[tmp_id]\n",
    "\n",
    "    return way"
   ]
  }
 ],
 "metadata": {
  "kernelspec": {
   "display_name": "morphomics",
   "language": "python",
   "name": "python3"
  },
  "language_info": {
   "codemirror_mode": {
    "name": "ipython",
    "version": 3
   },
   "file_extension": ".py",
   "mimetype": "text/x-python",
   "name": "python",
   "nbconvert_exporter": "python",
   "pygments_lexer": "ipython3",
   "version": "3.11.9"
  }
 },
 "nbformat": 4,
 "nbformat_minor": 2
}
